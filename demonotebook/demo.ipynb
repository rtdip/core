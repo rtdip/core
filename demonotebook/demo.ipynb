{
 "cells": [
  {
   "cell_type": "markdown",
   "metadata": {},
   "source": [
    "This is a very simple axample of the components implemented in the AMOS project.\n",
    "We're simply passing a dataframe `data` through all components in order to show their basic functionality and simulate a pipeline.\n",
    "\n",
    "In order to run this notebook, you need to create a conda environment as described in the repo's setup guide, and then build and install the sdk\n",
    "```bash\n",
    "RTDIP_SDK_NEXT_VER=<version> python -m  build\n",
    "pip install dist/rtdip_sdk-<version>-py3-none-any.whl\n",
    "```"
   ]
  },
  {
   "cell_type": "markdown",
   "metadata": {},
   "source": [
    "# Data manipulation"
   ]
  },
  {
   "cell_type": "code",
   "execution_count": 80,
   "metadata": {},
   "outputs": [],
   "source": [
    "# \n",
    "from pyspark.sql import SparkSession\n",
    "\n",
    "spark =  SparkSession.builder.master(\"local[*]\").appName(\"Demo\").getOrCreate()\n"
   ]
  },
  {
   "cell_type": "code",
   "execution_count": 81,
   "metadata": {},
   "outputs": [
    {
     "name": "stderr",
     "output_type": "stream",
     "text": [
      "                                                                                \r"
     ]
    }
   ],
   "source": [
    "# read csv data\n",
    "df = spark.read.option(\"header\", \"true\").csv(\"test_data.csv\")"
   ]
  },
  {
   "cell_type": "code",
   "execution_count": 82,
   "metadata": {},
   "outputs": [],
   "source": [
    "from rtdip_sdk.pipelines.data_quality.data_manipulation.spark.normalization import NormalizationZScore, NormalizationMinMax, NormalizationMean, Denormalization\n",
    "\n",
    "ZScoreNormalization = NormalizationZScore(df, ['Value'], in_place=True)\n",
    "df = ZScoreNormalization.filter()\n",
    "df = Denormalization(df, ZScoreNormalization).filter()\n",
    "\n",
    "MinMaxNormalization = NormalizationMinMax(df, ['Value'], in_place=True)\n",
    "df = MinMaxNormalization.normalize()\n",
    "df = MinMaxNormalization.denormalize(df)\n",
    "\n",
    "MeanNormalization = NormalizationMean(df, ['Value'], in_place=True)\n",
    "df = MeanNormalization.normalize()\n",
    "df = MeanNormalization.denormalize(df)"
   ]
  },
  {
   "cell_type": "code",
   "execution_count": 83,
   "metadata": {},
   "outputs": [],
   "source": [
    "from rtdip_sdk.pipelines.data_quality.data_manipulation.spark.duplicate_detection import DuplicateDetection\n",
    "\n",
    "df = DuplicateDetection(df, [\"Value\"]).filter()"
   ]
  },
  {
   "cell_type": "code",
   "execution_count": 84,
   "metadata": {},
   "outputs": [],
   "source": [
    "from rtdip_sdk.pipelines.data_quality.data_manipulation.spark.interval_filtering import IntervalFiltering\n",
    "\n",
    "df = IntervalFiltering(spark, df, 1, \"minutes\", \"EventTime\").filter()"
   ]
  },
  {
   "cell_type": "code",
   "execution_count": 85,
   "metadata": {},
   "outputs": [],
   "source": [
    "from rtdip_sdk.pipelines.data_quality.data_manipulation.spark.missing_value_imputation import MissingValueImputation\n",
    "\n",
    "df = MissingValueImputation(spark, df).filter()"
   ]
  },
  {
   "cell_type": "code",
   "execution_count": null,
   "metadata": {},
   "outputs": [],
   "source": []
  },
  {
   "cell_type": "code",
   "execution_count": 86,
   "metadata": {},
   "outputs": [],
   "source": [
    "# TODO: dimensionality reduction"
   ]
  },
  {
   "cell_type": "code",
   "execution_count": 87,
   "metadata": {},
   "outputs": [],
   "source": [
    "from rtdip_sdk.pipelines.data_quality.data_manipulation.spark.k_sigma_anomaly_detection import KSigmaAnomalyDetection\n",
    "df = KSigmaAnomalyDetection(spark, df, ['Value']).filter()"
   ]
  },
  {
   "cell_type": "code",
   "execution_count": 88,
   "metadata": {},
   "outputs": [
    {
     "name": "stderr",
     "output_type": "stream",
     "text": [
      "2025-01-27 20:03:59,275 - CheckValueRanges - INFO - Found 153 rows in 'Value' column for TagName 'R0:Z24WVP.0S10L' out of range.\n",
      "INFO:CheckValueRanges:Found 153 rows in 'Value' column for TagName 'R0:Z24WVP.0S10L' out of range.\n",
      "2025-01-27 20:03:59,593 - CheckValueRanges - INFO - Out of range row for TagName 'R0:Z24WVP.0S10L': Row(TagName='R0:Z24WVP.0S10L', EventTime=datetime.datetime(2024, 1, 2, 1, 16, 1, 1000), Status='Good', Value=2305.413330078125)\n",
      "INFO:CheckValueRanges:Out of range row for TagName 'R0:Z24WVP.0S10L': Row(TagName='R0:Z24WVP.0S10L', EventTime=datetime.datetime(2024, 1, 2, 1, 16, 1, 1000), Status='Good', Value=2305.413330078125)\n",
      "2025-01-27 20:03:59,594 - CheckValueRanges - INFO - Out of range row for TagName 'R0:Z24WVP.0S10L': Row(TagName='R0:Z24WVP.0S10L', EventTime=datetime.datetime(2024, 1, 2, 1, 28, 1, 1000), Status='Good', Value=2305.181396484375)\n",
      "INFO:CheckValueRanges:Out of range row for TagName 'R0:Z24WVP.0S10L': Row(TagName='R0:Z24WVP.0S10L', EventTime=datetime.datetime(2024, 1, 2, 1, 28, 1, 1000), Status='Good', Value=2305.181396484375)\n",
      "2025-01-27 20:03:59,595 - CheckValueRanges - INFO - Out of range row for TagName 'R0:Z24WVP.0S10L': Row(TagName='R0:Z24WVP.0S10L', EventTime=datetime.datetime(2024, 1, 2, 1, 40, 1, 1000), Status='Good', Value=2304.982666015625)\n",
      "INFO:CheckValueRanges:Out of range row for TagName 'R0:Z24WVP.0S10L': Row(TagName='R0:Z24WVP.0S10L', EventTime=datetime.datetime(2024, 1, 2, 1, 40, 1, 1000), Status='Good', Value=2304.982666015625)\n",
      "2025-01-27 20:03:59,595 - CheckValueRanges - INFO - Out of range row for TagName 'R0:Z24WVP.0S10L': Row(TagName='R0:Z24WVP.0S10L', EventTime=datetime.datetime(2024, 1, 2, 1, 45, 1, 1000), Status='Good', Value=2304.81982421875)\n",
      "INFO:CheckValueRanges:Out of range row for TagName 'R0:Z24WVP.0S10L': Row(TagName='R0:Z24WVP.0S10L', EventTime=datetime.datetime(2024, 1, 2, 1, 45, 1, 1000), Status='Good', Value=2304.81982421875)\n",
      "2025-01-27 20:03:59,596 - CheckValueRanges - INFO - Out of range row for TagName 'R0:Z24WVP.0S10L': Row(TagName='R0:Z24WVP.0S10L', EventTime=datetime.datetime(2024, 1, 2, 1, 52, 1, 1000), Status='Good', Value=2304.69482421875)\n",
      "INFO:CheckValueRanges:Out of range row for TagName 'R0:Z24WVP.0S10L': Row(TagName='R0:Z24WVP.0S10L', EventTime=datetime.datetime(2024, 1, 2, 1, 52, 1, 1000), Status='Good', Value=2304.69482421875)\n",
      "2025-01-27 20:03:59,596 - CheckValueRanges - INFO - Out of range row for TagName 'R0:Z24WVP.0S10L': Row(TagName='R0:Z24WVP.0S10L', EventTime=datetime.datetime(2024, 1, 2, 1, 57, 1, 1000), Status='Good', Value=2304.609619140625)\n",
      "INFO:CheckValueRanges:Out of range row for TagName 'R0:Z24WVP.0S10L': Row(TagName='R0:Z24WVP.0S10L', EventTime=datetime.datetime(2024, 1, 2, 1, 57, 1, 1000), Status='Good', Value=2304.609619140625)\n",
      "2025-01-27 20:03:59,597 - CheckValueRanges - INFO - Out of range row for TagName 'R0:Z24WVP.0S10L': Row(TagName='R0:Z24WVP.0S10L', EventTime=datetime.datetime(2024, 1, 2, 2, 9, 1, 1000), Status='Good', Value=2304.56689453125)\n",
      "INFO:CheckValueRanges:Out of range row for TagName 'R0:Z24WVP.0S10L': Row(TagName='R0:Z24WVP.0S10L', EventTime=datetime.datetime(2024, 1, 2, 2, 9, 1, 1000), Status='Good', Value=2304.56689453125)\n",
      "2025-01-27 20:03:59,597 - CheckValueRanges - INFO - Out of range row for TagName 'R0:Z24WVP.0S10L': Row(TagName='R0:Z24WVP.0S10L', EventTime=datetime.datetime(2024, 1, 2, 2, 21, 1, 1000), Status='Good', Value=2304.568359375)\n",
      "INFO:CheckValueRanges:Out of range row for TagName 'R0:Z24WVP.0S10L': Row(TagName='R0:Z24WVP.0S10L', EventTime=datetime.datetime(2024, 1, 2, 2, 21, 1, 1000), Status='Good', Value=2304.568359375)\n",
      "2025-01-27 20:03:59,598 - CheckValueRanges - INFO - Out of range row for TagName 'R0:Z24WVP.0S10L': Row(TagName='R0:Z24WVP.0S10L', EventTime=datetime.datetime(2024, 1, 2, 2, 33, 1, 1000), Status='Good', Value=2304.616455078125)\n",
      "INFO:CheckValueRanges:Out of range row for TagName 'R0:Z24WVP.0S10L': Row(TagName='R0:Z24WVP.0S10L', EventTime=datetime.datetime(2024, 1, 2, 2, 33, 1, 1000), Status='Good', Value=2304.616455078125)\n",
      "2025-01-27 20:03:59,599 - CheckValueRanges - INFO - Out of range row for TagName 'R0:Z24WVP.0S10L': Row(TagName='R0:Z24WVP.0S10L', EventTime=datetime.datetime(2024, 1, 2, 2, 45, 1, 1000), Status='Good', Value=2304.71337890625)\n",
      "INFO:CheckValueRanges:Out of range row for TagName 'R0:Z24WVP.0S10L': Row(TagName='R0:Z24WVP.0S10L', EventTime=datetime.datetime(2024, 1, 2, 2, 45, 1, 1000), Status='Good', Value=2304.71337890625)\n",
      "2025-01-27 20:03:59,599 - CheckValueRanges - INFO - Out of range row for TagName 'R0:Z24WVP.0S10L': Row(TagName='R0:Z24WVP.0S10L', EventTime=datetime.datetime(2024, 1, 2, 2, 57, 1, 1000), Status='Good', Value=2304.861328125)\n",
      "INFO:CheckValueRanges:Out of range row for TagName 'R0:Z24WVP.0S10L': Row(TagName='R0:Z24WVP.0S10L', EventTime=datetime.datetime(2024, 1, 2, 2, 57, 1, 1000), Status='Good', Value=2304.861328125)\n",
      "2025-01-27 20:03:59,600 - CheckValueRanges - INFO - Out of range row for TagName 'R0:Z24WVP.0S10L': Row(TagName='R0:Z24WVP.0S10L', EventTime=datetime.datetime(2024, 1, 2, 3, 9, 1, 1000), Status='Good', Value=2305.062255859375)\n",
      "INFO:CheckValueRanges:Out of range row for TagName 'R0:Z24WVP.0S10L': Row(TagName='R0:Z24WVP.0S10L', EventTime=datetime.datetime(2024, 1, 2, 3, 9, 1, 1000), Status='Good', Value=2305.062255859375)\n",
      "2025-01-27 20:03:59,601 - CheckValueRanges - INFO - Out of range row for TagName 'R0:Z24WVP.0S10L': Row(TagName='R0:Z24WVP.0S10L', EventTime=datetime.datetime(2024, 1, 2, 3, 21, 1, 1000), Status='Good', Value=2305.318603515625)\n",
      "INFO:CheckValueRanges:Out of range row for TagName 'R0:Z24WVP.0S10L': Row(TagName='R0:Z24WVP.0S10L', EventTime=datetime.datetime(2024, 1, 2, 3, 21, 1, 1000), Status='Good', Value=2305.318603515625)\n",
      "2025-01-27 20:03:59,601 - CheckValueRanges - INFO - Out of range row for TagName 'R0:Z24WVP.0S10L': Row(TagName='R0:Z24WVP.0S10L', EventTime=datetime.datetime(2024, 1, 2, 3, 33, 1, 1000), Status='Good', Value=2305.632568359375)\n",
      "INFO:CheckValueRanges:Out of range row for TagName 'R0:Z24WVP.0S10L': Row(TagName='R0:Z24WVP.0S10L', EventTime=datetime.datetime(2024, 1, 2, 3, 33, 1, 1000), Status='Good', Value=2305.632568359375)\n",
      "2025-01-27 20:03:59,602 - CheckValueRanges - INFO - Out of range row for TagName 'R0:Z24WVP.0S10L': Row(TagName='R0:Z24WVP.0S10L', EventTime=datetime.datetime(2024, 1, 2, 3, 38, 0, 1000), Status='Good', Value=2306.006103515625)\n",
      "INFO:CheckValueRanges:Out of range row for TagName 'R0:Z24WVP.0S10L': Row(TagName='R0:Z24WVP.0S10L', EventTime=datetime.datetime(2024, 1, 2, 3, 38, 0, 1000), Status='Good', Value=2306.006103515625)\n",
      "2025-01-27 20:03:59,603 - CheckValueRanges - INFO - Out of range row for TagName 'R0:Z24WVP.0S10L': Row(TagName='R0:Z24WVP.0S10L', EventTime=datetime.datetime(2024, 1, 2, 3, 45, 1, 1000), Status='Good', Value=2306.429931640625)\n",
      "INFO:CheckValueRanges:Out of range row for TagName 'R0:Z24WVP.0S10L': Row(TagName='R0:Z24WVP.0S10L', EventTime=datetime.datetime(2024, 1, 2, 3, 45, 1, 1000), Status='Good', Value=2306.429931640625)\n",
      "2025-01-27 20:03:59,604 - CheckValueRanges - INFO - Out of range row for TagName 'R0:Z24WVP.0S10L': Row(TagName='R0:Z24WVP.0S10L', EventTime=datetime.datetime(2024, 1, 2, 3, 50, 0, 1000), Status='Good', Value=2306.847900390625)\n",
      "INFO:CheckValueRanges:Out of range row for TagName 'R0:Z24WVP.0S10L': Row(TagName='R0:Z24WVP.0S10L', EventTime=datetime.datetime(2024, 1, 2, 3, 50, 0, 1000), Status='Good', Value=2306.847900390625)\n",
      "2025-01-27 20:03:59,605 - CheckValueRanges - INFO - Out of range row for TagName 'R0:Z24WVP.0S10L': Row(TagName='R0:Z24WVP.0S10L', EventTime=datetime.datetime(2024, 1, 2, 3, 56, 0, 1000), Status='Good', Value=2307.1923828125)\n",
      "INFO:CheckValueRanges:Out of range row for TagName 'R0:Z24WVP.0S10L': Row(TagName='R0:Z24WVP.0S10L', EventTime=datetime.datetime(2024, 1, 2, 3, 56, 0, 1000), Status='Good', Value=2307.1923828125)\n",
      "2025-01-27 20:03:59,605 - CheckValueRanges - INFO - Out of range row for TagName 'R0:Z24WVP.0S10L': Row(TagName='R0:Z24WVP.0S10L', EventTime=datetime.datetime(2024, 1, 2, 4, 2, 0, 1000), Status='Good', Value=2307.414306640625)\n",
      "INFO:CheckValueRanges:Out of range row for TagName 'R0:Z24WVP.0S10L': Row(TagName='R0:Z24WVP.0S10L', EventTime=datetime.datetime(2024, 1, 2, 4, 2, 0, 1000), Status='Good', Value=2307.414306640625)\n",
      "2025-01-27 20:03:59,606 - CheckValueRanges - INFO - Out of range row for TagName 'R0:Z24WVP.0S10L': Row(TagName='R0:Z24WVP.0S10L', EventTime=datetime.datetime(2024, 1, 2, 4, 8, 0, 1000), Status='Good', Value=2307.53955078125)\n",
      "INFO:CheckValueRanges:Out of range row for TagName 'R0:Z24WVP.0S10L': Row(TagName='R0:Z24WVP.0S10L', EventTime=datetime.datetime(2024, 1, 2, 4, 8, 0, 1000), Status='Good', Value=2307.53955078125)\n",
      "2025-01-27 20:03:59,606 - CheckValueRanges - INFO - Out of range row for TagName 'R0:Z24WVP.0S10L': Row(TagName='R0:Z24WVP.0S10L', EventTime=datetime.datetime(2024, 1, 2, 4, 20, 0, 1000), Status='Good', Value=2307.61328125)\n",
      "INFO:CheckValueRanges:Out of range row for TagName 'R0:Z24WVP.0S10L': Row(TagName='R0:Z24WVP.0S10L', EventTime=datetime.datetime(2024, 1, 2, 4, 20, 0, 1000), Status='Good', Value=2307.61328125)\n",
      "2025-01-27 20:03:59,607 - CheckValueRanges - INFO - Out of range row for TagName 'R0:Z24WVP.0S10L': Row(TagName='R0:Z24WVP.0S10L', EventTime=datetime.datetime(2024, 1, 2, 4, 32, 0, 1000), Status='Good', Value=2307.680419921875)\n",
      "INFO:CheckValueRanges:Out of range row for TagName 'R0:Z24WVP.0S10L': Row(TagName='R0:Z24WVP.0S10L', EventTime=datetime.datetime(2024, 1, 2, 4, 32, 0, 1000), Status='Good', Value=2307.680419921875)\n",
      "2025-01-27 20:03:59,608 - CheckValueRanges - INFO - Out of range row for TagName 'R0:Z24WVP.0S10L': Row(TagName='R0:Z24WVP.0S10L', EventTime=datetime.datetime(2024, 1, 2, 4, 44, 1, 1000), Status='Good', Value=2307.78564453125)\n",
      "INFO:CheckValueRanges:Out of range row for TagName 'R0:Z24WVP.0S10L': Row(TagName='R0:Z24WVP.0S10L', EventTime=datetime.datetime(2024, 1, 2, 4, 44, 1, 1000), Status='Good', Value=2307.78564453125)\n",
      "2025-01-27 20:03:59,608 - CheckValueRanges - INFO - Out of range row for TagName 'R0:Z24WVP.0S10L': Row(TagName='R0:Z24WVP.0S10L', EventTime=datetime.datetime(2024, 1, 2, 4, 56, 1, 1000), Status='Good', Value=2307.962890625)\n",
      "INFO:CheckValueRanges:Out of range row for TagName 'R0:Z24WVP.0S10L': Row(TagName='R0:Z24WVP.0S10L', EventTime=datetime.datetime(2024, 1, 2, 4, 56, 1, 1000), Status='Good', Value=2307.962890625)\n",
      "2025-01-27 20:03:59,609 - CheckValueRanges - INFO - Out of range row for TagName 'R0:Z24WVP.0S10L': Row(TagName='R0:Z24WVP.0S10L', EventTime=datetime.datetime(2024, 1, 2, 5, 8, 1, 1000), Status='Good', Value=2308.201416015625)\n",
      "INFO:CheckValueRanges:Out of range row for TagName 'R0:Z24WVP.0S10L': Row(TagName='R0:Z24WVP.0S10L', EventTime=datetime.datetime(2024, 1, 2, 5, 8, 1, 1000), Status='Good', Value=2308.201416015625)\n",
      "2025-01-27 20:03:59,609 - CheckValueRanges - INFO - Out of range row for TagName 'R0:Z24WVP.0S10L': Row(TagName='R0:Z24WVP.0S10L', EventTime=datetime.datetime(2024, 1, 2, 5, 20, 1, 1000), Status='Good', Value=2308.480224609375)\n",
      "INFO:CheckValueRanges:Out of range row for TagName 'R0:Z24WVP.0S10L': Row(TagName='R0:Z24WVP.0S10L', EventTime=datetime.datetime(2024, 1, 2, 5, 20, 1, 1000), Status='Good', Value=2308.480224609375)\n",
      "2025-01-27 20:03:59,610 - CheckValueRanges - INFO - Out of range row for TagName 'R0:Z24WVP.0S10L': Row(TagName='R0:Z24WVP.0S10L', EventTime=datetime.datetime(2024, 1, 2, 5, 32, 1, 1000), Status='Good', Value=2308.77734375)\n",
      "INFO:CheckValueRanges:Out of range row for TagName 'R0:Z24WVP.0S10L': Row(TagName='R0:Z24WVP.0S10L', EventTime=datetime.datetime(2024, 1, 2, 5, 32, 1, 1000), Status='Good', Value=2308.77734375)\n",
      "2025-01-27 20:03:59,610 - CheckValueRanges - INFO - Out of range row for TagName 'R0:Z24WVP.0S10L': Row(TagName='R0:Z24WVP.0S10L', EventTime=datetime.datetime(2024, 1, 2, 5, 44, 1, 1000), Status='Good', Value=2309.071533203125)\n",
      "INFO:CheckValueRanges:Out of range row for TagName 'R0:Z24WVP.0S10L': Row(TagName='R0:Z24WVP.0S10L', EventTime=datetime.datetime(2024, 1, 2, 5, 44, 1, 1000), Status='Good', Value=2309.071533203125)\n",
      "2025-01-27 20:03:59,611 - CheckValueRanges - INFO - Out of range row for TagName 'R0:Z24WVP.0S10L': Row(TagName='R0:Z24WVP.0S10L', EventTime=datetime.datetime(2024, 1, 2, 5, 56, 1, 1000), Status='Good', Value=2309.34130859375)\n",
      "INFO:CheckValueRanges:Out of range row for TagName 'R0:Z24WVP.0S10L': Row(TagName='R0:Z24WVP.0S10L', EventTime=datetime.datetime(2024, 1, 2, 5, 56, 1, 1000), Status='Good', Value=2309.34130859375)\n",
      "2025-01-27 20:03:59,611 - CheckValueRanges - INFO - Out of range row for TagName 'R0:Z24WVP.0S10L': Row(TagName='R0:Z24WVP.0S10L', EventTime=datetime.datetime(2024, 1, 2, 5, 58, 0, 1000), Status='Good', Value=2309.56494140625)\n",
      "INFO:CheckValueRanges:Out of range row for TagName 'R0:Z24WVP.0S10L': Row(TagName='R0:Z24WVP.0S10L', EventTime=datetime.datetime(2024, 1, 2, 5, 58, 0, 1000), Status='Good', Value=2309.56494140625)\n",
      "2025-01-27 20:03:59,613 - CheckValueRanges - INFO - Out of range row for TagName 'R0:Z24WVP.0S10L': Row(TagName='R0:Z24WVP.0S10L', EventTime=datetime.datetime(2024, 1, 2, 6, 8, 1, 1000), Status='Good', Value=2309.72705078125)\n",
      "INFO:CheckValueRanges:Out of range row for TagName 'R0:Z24WVP.0S10L': Row(TagName='R0:Z24WVP.0S10L', EventTime=datetime.datetime(2024, 1, 2, 6, 8, 1, 1000), Status='Good', Value=2309.72705078125)\n",
      "2025-01-27 20:03:59,613 - CheckValueRanges - INFO - Out of range row for TagName 'R0:Z24WVP.0S10L': Row(TagName='R0:Z24WVP.0S10L', EventTime=datetime.datetime(2024, 1, 2, 6, 10, 0, 1000), Status='Good', Value=2309.835693359375)\n",
      "INFO:CheckValueRanges:Out of range row for TagName 'R0:Z24WVP.0S10L': Row(TagName='R0:Z24WVP.0S10L', EventTime=datetime.datetime(2024, 1, 2, 6, 10, 0, 1000), Status='Good', Value=2309.835693359375)\n",
      "2025-01-27 20:03:59,613 - CheckValueRanges - INFO - Out of range row for TagName 'R0:Z24WVP.0S10L': Row(TagName='R0:Z24WVP.0S10L', EventTime=datetime.datetime(2024, 1, 2, 6, 22, 0, 1000), Status='Good', Value=2309.9052734375)\n",
      "INFO:CheckValueRanges:Out of range row for TagName 'R0:Z24WVP.0S10L': Row(TagName='R0:Z24WVP.0S10L', EventTime=datetime.datetime(2024, 1, 2, 6, 22, 0, 1000), Status='Good', Value=2309.9052734375)\n",
      "2025-01-27 20:03:59,614 - CheckValueRanges - INFO - Out of range row for TagName 'R0:Z24WVP.0S10L': Row(TagName='R0:Z24WVP.0S10L', EventTime=datetime.datetime(2024, 1, 2, 6, 34, 0, 1000), Status='Good', Value=2309.949462890625)\n",
      "INFO:CheckValueRanges:Out of range row for TagName 'R0:Z24WVP.0S10L': Row(TagName='R0:Z24WVP.0S10L', EventTime=datetime.datetime(2024, 1, 2, 6, 34, 0, 1000), Status='Good', Value=2309.949462890625)\n",
      "2025-01-27 20:03:59,614 - CheckValueRanges - INFO - Out of range row for TagName 'R0:Z24WVP.0S10L': Row(TagName='R0:Z24WVP.0S10L', EventTime=datetime.datetime(2024, 1, 2, 6, 46, 0, 1000), Status='Good', Value=2309.98291015625)\n",
      "INFO:CheckValueRanges:Out of range row for TagName 'R0:Z24WVP.0S10L': Row(TagName='R0:Z24WVP.0S10L', EventTime=datetime.datetime(2024, 1, 2, 6, 46, 0, 1000), Status='Good', Value=2309.98291015625)\n",
      "2025-01-27 20:03:59,615 - CheckValueRanges - INFO - Out of range row for TagName 'R0:Z24WVP.0S10L': Row(TagName='R0:Z24WVP.0S10L', EventTime=datetime.datetime(2024, 1, 2, 6, 58, 0, 1000), Status='Good', Value=2310.019287109375)\n",
      "INFO:CheckValueRanges:Out of range row for TagName 'R0:Z24WVP.0S10L': Row(TagName='R0:Z24WVP.0S10L', EventTime=datetime.datetime(2024, 1, 2, 6, 58, 0, 1000), Status='Good', Value=2310.019287109375)\n",
      "2025-01-27 20:03:59,615 - CheckValueRanges - INFO - Out of range row for TagName 'R0:Z24WVP.0S10L': Row(TagName='R0:Z24WVP.0S10L', EventTime=datetime.datetime(2024, 1, 2, 7, 10, 0, 1000), Status='Good', Value=2310.072998046875)\n",
      "INFO:CheckValueRanges:Out of range row for TagName 'R0:Z24WVP.0S10L': Row(TagName='R0:Z24WVP.0S10L', EventTime=datetime.datetime(2024, 1, 2, 7, 10, 0, 1000), Status='Good', Value=2310.072998046875)\n",
      "2025-01-27 20:03:59,616 - CheckValueRanges - INFO - Out of range row for TagName 'R0:Z24WVP.0S10L': Row(TagName='R0:Z24WVP.0S10L', EventTime=datetime.datetime(2024, 1, 2, 7, 22, 0, 1000), Status='Good', Value=2310.158203125)\n",
      "INFO:CheckValueRanges:Out of range row for TagName 'R0:Z24WVP.0S10L': Row(TagName='R0:Z24WVP.0S10L', EventTime=datetime.datetime(2024, 1, 2, 7, 22, 0, 1000), Status='Good', Value=2310.158203125)\n",
      "2025-01-27 20:03:59,617 - CheckValueRanges - INFO - Out of range row for TagName 'R0:Z24WVP.0S10L': Row(TagName='R0:Z24WVP.0S10L', EventTime=datetime.datetime(2024, 1, 2, 7, 34, 0, 1000), Status='Good', Value=2310.282470703125)\n",
      "INFO:CheckValueRanges:Out of range row for TagName 'R0:Z24WVP.0S10L': Row(TagName='R0:Z24WVP.0S10L', EventTime=datetime.datetime(2024, 1, 2, 7, 34, 0, 1000), Status='Good', Value=2310.282470703125)\n",
      "2025-01-27 20:03:59,617 - CheckValueRanges - INFO - Out of range row for TagName 'R0:Z24WVP.0S10L': Row(TagName='R0:Z24WVP.0S10L', EventTime=datetime.datetime(2024, 1, 2, 7, 46, 0, 1000), Status='Good', Value=2310.427978515625)\n",
      "INFO:CheckValueRanges:Out of range row for TagName 'R0:Z24WVP.0S10L': Row(TagName='R0:Z24WVP.0S10L', EventTime=datetime.datetime(2024, 1, 2, 7, 46, 0, 1000), Status='Good', Value=2310.427978515625)\n",
      "2025-01-27 20:03:59,618 - CheckValueRanges - INFO - Out of range row for TagName 'R0:Z24WVP.0S10L': Row(TagName='R0:Z24WVP.0S10L', EventTime=datetime.datetime(2024, 1, 2, 7, 58, 0, 1000), Status='Good', Value=2310.57080078125)\n",
      "INFO:CheckValueRanges:Out of range row for TagName 'R0:Z24WVP.0S10L': Row(TagName='R0:Z24WVP.0S10L', EventTime=datetime.datetime(2024, 1, 2, 7, 58, 0, 1000), Status='Good', Value=2310.57080078125)\n",
      "2025-01-27 20:03:59,618 - CheckValueRanges - INFO - Out of range row for TagName 'R0:Z24WVP.0S10L': Row(TagName='R0:Z24WVP.0S10L', EventTime=datetime.datetime(2024, 1, 2, 8, 10, 0, 1000), Status='Good', Value=2310.686767578125)\n",
      "INFO:CheckValueRanges:Out of range row for TagName 'R0:Z24WVP.0S10L': Row(TagName='R0:Z24WVP.0S10L', EventTime=datetime.datetime(2024, 1, 2, 8, 10, 0, 1000), Status='Good', Value=2310.686767578125)\n",
      "2025-01-27 20:03:59,618 - CheckValueRanges - INFO - Out of range row for TagName 'R0:Z24WVP.0S10L': Row(TagName='R0:Z24WVP.0S10L', EventTime=datetime.datetime(2024, 1, 2, 8, 20, 0, 1000), Status='Good', Value=2310.751220703125)\n",
      "INFO:CheckValueRanges:Out of range row for TagName 'R0:Z24WVP.0S10L': Row(TagName='R0:Z24WVP.0S10L', EventTime=datetime.datetime(2024, 1, 2, 8, 20, 0, 1000), Status='Good', Value=2310.751220703125)\n",
      "2025-01-27 20:03:59,619 - CheckValueRanges - INFO - Out of range row for TagName 'R0:Z24WVP.0S10L': Row(TagName='R0:Z24WVP.0S10L', EventTime=datetime.datetime(2024, 1, 2, 8, 22, 0, 1000), Status='Good', Value=2310.775634765625)\n",
      "INFO:CheckValueRanges:Out of range row for TagName 'R0:Z24WVP.0S10L': Row(TagName='R0:Z24WVP.0S10L', EventTime=datetime.datetime(2024, 1, 2, 8, 22, 0, 1000), Status='Good', Value=2310.775634765625)\n",
      "2025-01-27 20:03:59,619 - CheckValueRanges - INFO - Out of range row for TagName 'R0:Z24WVP.0S10L': Row(TagName='R0:Z24WVP.0S10L', EventTime=datetime.datetime(2024, 1, 2, 8, 32, 0, 1000), Status='Good', Value=2310.9111328125)\n",
      "INFO:CheckValueRanges:Out of range row for TagName 'R0:Z24WVP.0S10L': Row(TagName='R0:Z24WVP.0S10L', EventTime=datetime.datetime(2024, 1, 2, 8, 32, 0, 1000), Status='Good', Value=2310.9111328125)\n",
      "2025-01-27 20:03:59,619 - CheckValueRanges - INFO - Out of range row for TagName 'R0:Z24WVP.0S10L': Row(TagName='R0:Z24WVP.0S10L', EventTime=datetime.datetime(2024, 1, 2, 8, 38, 0, 2000), Status='Good', Value=2311.344482421875)\n",
      "INFO:CheckValueRanges:Out of range row for TagName 'R0:Z24WVP.0S10L': Row(TagName='R0:Z24WVP.0S10L', EventTime=datetime.datetime(2024, 1, 2, 8, 38, 0, 2000), Status='Good', Value=2311.344482421875)\n",
      "2025-01-27 20:03:59,620 - CheckValueRanges - INFO - Out of range row for TagName 'R0:Z24WVP.0S10L': Row(TagName='R0:Z24WVP.0S10L', EventTime=datetime.datetime(2024, 1, 2, 8, 44, 0, 1000), Status='Good', Value=2312.178466796875)\n",
      "INFO:CheckValueRanges:Out of range row for TagName 'R0:Z24WVP.0S10L': Row(TagName='R0:Z24WVP.0S10L', EventTime=datetime.datetime(2024, 1, 2, 8, 44, 0, 1000), Status='Good', Value=2312.178466796875)\n",
      "2025-01-27 20:03:59,620 - CheckValueRanges - INFO - Out of range row for TagName 'R0:Z24WVP.0S10L': Row(TagName='R0:Z24WVP.0S10L', EventTime=datetime.datetime(2024, 1, 2, 8, 50, 0, 2000), Status='Good', Value=2313.18017578125)\n",
      "INFO:CheckValueRanges:Out of range row for TagName 'R0:Z24WVP.0S10L': Row(TagName='R0:Z24WVP.0S10L', EventTime=datetime.datetime(2024, 1, 2, 8, 50, 0, 2000), Status='Good', Value=2313.18017578125)\n",
      "2025-01-27 20:03:59,621 - CheckValueRanges - INFO - Out of range row for TagName 'R0:Z24WVP.0S10L': Row(TagName='R0:Z24WVP.0S10L', EventTime=datetime.datetime(2024, 1, 2, 9, 2, 0, 2000), Status='Good', Value=2314.032958984375)\n",
      "INFO:CheckValueRanges:Out of range row for TagName 'R0:Z24WVP.0S10L': Row(TagName='R0:Z24WVP.0S10L', EventTime=datetime.datetime(2024, 1, 2, 9, 2, 0, 2000), Status='Good', Value=2314.032958984375)\n",
      "2025-01-27 20:03:59,621 - CheckValueRanges - INFO - Out of range row for TagName 'R0:Z24WVP.0S10L': Row(TagName='R0:Z24WVP.0S10L', EventTime=datetime.datetime(2024, 1, 2, 9, 14, 0, 2000), Status='Good', Value=2314.420166015625)\n",
      "INFO:CheckValueRanges:Out of range row for TagName 'R0:Z24WVP.0S10L': Row(TagName='R0:Z24WVP.0S10L', EventTime=datetime.datetime(2024, 1, 2, 9, 14, 0, 2000), Status='Good', Value=2314.420166015625)\n",
      "2025-01-27 20:03:59,621 - CheckValueRanges - INFO - Out of range row for TagName 'R0:Z24WVP.0S10L': Row(TagName='R0:Z24WVP.0S10L', EventTime=datetime.datetime(2024, 1, 2, 9, 26, 0, 2000), Status='Good', Value=2314.02490234375)\n",
      "INFO:CheckValueRanges:Out of range row for TagName 'R0:Z24WVP.0S10L': Row(TagName='R0:Z24WVP.0S10L', EventTime=datetime.datetime(2024, 1, 2, 9, 26, 0, 2000), Status='Good', Value=2314.02490234375)\n",
      "2025-01-27 20:03:59,622 - CheckValueRanges - INFO - Out of range row for TagName 'R0:Z24WVP.0S10L': Row(TagName='R0:Z24WVP.0S10L', EventTime=datetime.datetime(2024, 1, 2, 9, 36, 0, 1000), Status='Good', Value=2312.53076171875)\n",
      "INFO:CheckValueRanges:Out of range row for TagName 'R0:Z24WVP.0S10L': Row(TagName='R0:Z24WVP.0S10L', EventTime=datetime.datetime(2024, 1, 2, 9, 36, 0, 1000), Status='Good', Value=2312.53076171875)\n",
      "2025-01-27 20:03:59,622 - CheckValueRanges - INFO - Out of range row for TagName 'R0:Z24WVP.0S10L': Row(TagName='R0:Z24WVP.0S10L', EventTime=datetime.datetime(2024, 1, 2, 9, 37, 0, 1000), Status='Good', Value=2311.937255859375)\n",
      "INFO:CheckValueRanges:Out of range row for TagName 'R0:Z24WVP.0S10L': Row(TagName='R0:Z24WVP.0S10L', EventTime=datetime.datetime(2024, 1, 2, 9, 37, 0, 1000), Status='Good', Value=2311.937255859375)\n",
      "2025-01-27 20:03:59,622 - CheckValueRanges - INFO - Out of range row for TagName 'R0:Z24WVP.0S10L': Row(TagName='R0:Z24WVP.0S10L', EventTime=datetime.datetime(2024, 1, 2, 9, 38, 0, 2000), Status='Good', Value=2320.09033203125)\n",
      "INFO:CheckValueRanges:Out of range row for TagName 'R0:Z24WVP.0S10L': Row(TagName='R0:Z24WVP.0S10L', EventTime=datetime.datetime(2024, 1, 2, 9, 38, 0, 2000), Status='Good', Value=2320.09033203125)\n",
      "2025-01-27 20:03:59,622 - CheckValueRanges - INFO - Out of range row for TagName 'R0:Z24WVP.0S10L': Row(TagName='R0:Z24WVP.0S10L', EventTime=datetime.datetime(2024, 1, 2, 9, 48, 0, 1000), Status='Good', Value=2333.4736328125)\n",
      "INFO:CheckValueRanges:Out of range row for TagName 'R0:Z24WVP.0S10L': Row(TagName='R0:Z24WVP.0S10L', EventTime=datetime.datetime(2024, 1, 2, 9, 48, 0, 1000), Status='Good', Value=2333.4736328125)\n",
      "2025-01-27 20:03:59,623 - CheckValueRanges - INFO - Out of range row for TagName 'R0:Z24WVP.0S10L': Row(TagName='R0:Z24WVP.0S10L', EventTime=datetime.datetime(2024, 1, 2, 9, 49, 0, 1000), Status='Good', Value=2345.151611328125)\n",
      "INFO:CheckValueRanges:Out of range row for TagName 'R0:Z24WVP.0S10L': Row(TagName='R0:Z24WVP.0S10L', EventTime=datetime.datetime(2024, 1, 2, 9, 49, 0, 1000), Status='Good', Value=2345.151611328125)\n",
      "2025-01-27 20:03:59,624 - CheckValueRanges - INFO - Out of range row for TagName 'R0:Z24WVP.0S10L': Row(TagName='R0:Z24WVP.0S10L', EventTime=datetime.datetime(2024, 1, 2, 10, 1, 0, 1000), Status='Good', Value=2349.904541015625)\n",
      "INFO:CheckValueRanges:Out of range row for TagName 'R0:Z24WVP.0S10L': Row(TagName='R0:Z24WVP.0S10L', EventTime=datetime.datetime(2024, 1, 2, 10, 1, 0, 1000), Status='Good', Value=2349.904541015625)\n",
      "2025-01-27 20:03:59,624 - CheckValueRanges - INFO - Out of range row for TagName 'R0:Z24WVP.0S10L': Row(TagName='R0:Z24WVP.0S10L', EventTime=datetime.datetime(2024, 1, 2, 10, 13, 0, 1000), Status='Good', Value=2349.377197265625)\n",
      "INFO:CheckValueRanges:Out of range row for TagName 'R0:Z24WVP.0S10L': Row(TagName='R0:Z24WVP.0S10L', EventTime=datetime.datetime(2024, 1, 2, 10, 13, 0, 1000), Status='Good', Value=2349.377197265625)\n",
      "2025-01-27 20:03:59,625 - CheckValueRanges - INFO - Out of range row for TagName 'R0:Z24WVP.0S10L': Row(TagName='R0:Z24WVP.0S10L', EventTime=datetime.datetime(2024, 1, 2, 10, 22, 0, 1000), Status='Good', Value=2346.9306640625)\n",
      "INFO:CheckValueRanges:Out of range row for TagName 'R0:Z24WVP.0S10L': Row(TagName='R0:Z24WVP.0S10L', EventTime=datetime.datetime(2024, 1, 2, 10, 22, 0, 1000), Status='Good', Value=2346.9306640625)\n",
      "2025-01-27 20:03:59,626 - CheckValueRanges - INFO - Out of range row for TagName 'R0:Z24WVP.0S10L': Row(TagName='R0:Z24WVP.0S10L', EventTime=datetime.datetime(2024, 1, 2, 10, 25, 0, 1000), Status='Good', Value=2345.280029296875)\n",
      "INFO:CheckValueRanges:Out of range row for TagName 'R0:Z24WVP.0S10L': Row(TagName='R0:Z24WVP.0S10L', EventTime=datetime.datetime(2024, 1, 2, 10, 25, 0, 1000), Status='Good', Value=2345.280029296875)\n",
      "2025-01-27 20:03:59,626 - CheckValueRanges - INFO - Out of range row for TagName 'R0:Z24WVP.0S10L': Row(TagName='R0:Z24WVP.0S10L', EventTime=datetime.datetime(2024, 1, 2, 10, 28, 1, 1000), Status='Good', Value=2344.558349609375)\n",
      "INFO:CheckValueRanges:Out of range row for TagName 'R0:Z24WVP.0S10L': Row(TagName='R0:Z24WVP.0S10L', EventTime=datetime.datetime(2024, 1, 2, 10, 28, 1, 1000), Status='Good', Value=2344.558349609375)\n",
      "2025-01-27 20:03:59,627 - CheckValueRanges - INFO - Out of range row for TagName 'R0:Z24WVP.0S10L': Row(TagName='R0:Z24WVP.0S10L', EventTime=datetime.datetime(2024, 1, 2, 10, 34, 0, 1000), Status='Good', Value=2344.56396484375)\n",
      "INFO:CheckValueRanges:Out of range row for TagName 'R0:Z24WVP.0S10L': Row(TagName='R0:Z24WVP.0S10L', EventTime=datetime.datetime(2024, 1, 2, 10, 34, 0, 1000), Status='Good', Value=2344.56396484375)\n",
      "2025-01-27 20:03:59,627 - CheckValueRanges - INFO - Out of range row for TagName 'R0:Z24WVP.0S10L': Row(TagName='R0:Z24WVP.0S10L', EventTime=datetime.datetime(2024, 1, 2, 10, 34, 1, 1000), Status='Good', Value=2346.337646484375)\n",
      "INFO:CheckValueRanges:Out of range row for TagName 'R0:Z24WVP.0S10L': Row(TagName='R0:Z24WVP.0S10L', EventTime=datetime.datetime(2024, 1, 2, 10, 34, 1, 1000), Status='Good', Value=2346.337646484375)\n",
      "2025-01-27 20:03:59,628 - CheckValueRanges - INFO - Out of range row for TagName 'R0:Z24WVP.0S10L': Row(TagName='R0:Z24WVP.0S10L', EventTime=datetime.datetime(2024, 1, 2, 10, 38, 0, 1000), Status='Good', Value=2347.52392578125)\n",
      "INFO:CheckValueRanges:Out of range row for TagName 'R0:Z24WVP.0S10L': Row(TagName='R0:Z24WVP.0S10L', EventTime=datetime.datetime(2024, 1, 2, 10, 38, 0, 1000), Status='Good', Value=2347.52392578125)\n",
      "2025-01-27 20:03:59,628 - CheckValueRanges - INFO - Out of range row for TagName 'R0:Z24WVP.0S10L': Row(TagName='R0:Z24WVP.0S10L', EventTime=datetime.datetime(2024, 1, 2, 10, 40, 1, 1000), Status='Good', Value=2336.21044921875)\n",
      "INFO:CheckValueRanges:Out of range row for TagName 'R0:Z24WVP.0S10L': Row(TagName='R0:Z24WVP.0S10L', EventTime=datetime.datetime(2024, 1, 2, 10, 40, 1, 1000), Status='Good', Value=2336.21044921875)\n",
      "2025-01-27 20:03:59,628 - CheckValueRanges - INFO - Out of range row for TagName 'R0:Z24WVP.0S10L': Row(TagName='R0:Z24WVP.0S10L', EventTime=datetime.datetime(2024, 1, 2, 10, 42, 0, 1000), Status='Good', Value=2317.86865234375)\n",
      "INFO:CheckValueRanges:Out of range row for TagName 'R0:Z24WVP.0S10L': Row(TagName='R0:Z24WVP.0S10L', EventTime=datetime.datetime(2024, 1, 2, 10, 42, 0, 1000), Status='Good', Value=2317.86865234375)\n",
      "2025-01-27 20:03:59,629 - CheckValueRanges - INFO - Out of range row for TagName 'R0:Z24WVP.0S10L': Row(TagName='R0:Z24WVP.0S10L', EventTime=datetime.datetime(2024, 1, 2, 10, 46, 1, 1000), Status='Good', Value=2301.393798828125)\n",
      "INFO:CheckValueRanges:Out of range row for TagName 'R0:Z24WVP.0S10L': Row(TagName='R0:Z24WVP.0S10L', EventTime=datetime.datetime(2024, 1, 2, 10, 46, 1, 1000), Status='Good', Value=2301.393798828125)\n",
      "2025-01-27 20:03:59,629 - CheckValueRanges - INFO - Out of range row for TagName 'R0:Z24WVP.0S10L': Row(TagName='R0:Z24WVP.0S10L', EventTime=datetime.datetime(2024, 1, 2, 10, 50, 0, 1000), Status='Good', Value=2288.2822265625)\n",
      "INFO:CheckValueRanges:Out of range row for TagName 'R0:Z24WVP.0S10L': Row(TagName='R0:Z24WVP.0S10L', EventTime=datetime.datetime(2024, 1, 2, 10, 50, 0, 1000), Status='Good', Value=2288.2822265625)\n",
      "2025-01-27 20:03:59,629 - CheckValueRanges - INFO - Out of range row for TagName 'R0:Z24WVP.0S10L': Row(TagName='R0:Z24WVP.0S10L', EventTime=datetime.datetime(2024, 1, 2, 10, 54, 0, 1000), Status='Good', Value=2278.18115234375)\n",
      "INFO:CheckValueRanges:Out of range row for TagName 'R0:Z24WVP.0S10L': Row(TagName='R0:Z24WVP.0S10L', EventTime=datetime.datetime(2024, 1, 2, 10, 54, 0, 1000), Status='Good', Value=2278.18115234375)\n",
      "2025-01-27 20:03:59,630 - CheckValueRanges - INFO - Out of range row for TagName 'R0:Z24WVP.0S10L': Row(TagName='R0:Z24WVP.0S10L', EventTime=datetime.datetime(2024, 1, 2, 11, 6, 0, 1000), Status='Good', Value=2270.7373046875)\n",
      "INFO:CheckValueRanges:Out of range row for TagName 'R0:Z24WVP.0S10L': Row(TagName='R0:Z24WVP.0S10L', EventTime=datetime.datetime(2024, 1, 2, 11, 6, 0, 1000), Status='Good', Value=2270.7373046875)\n",
      "2025-01-27 20:03:59,630 - CheckValueRanges - INFO - Out of range row for TagName 'R0:Z24WVP.0S10L': Row(TagName='R0:Z24WVP.0S10L', EventTime=datetime.datetime(2024, 1, 2, 11, 18, 0, 1000), Status='Good', Value=2265.597900390625)\n",
      "INFO:CheckValueRanges:Out of range row for TagName 'R0:Z24WVP.0S10L': Row(TagName='R0:Z24WVP.0S10L', EventTime=datetime.datetime(2024, 1, 2, 11, 18, 0, 1000), Status='Good', Value=2265.597900390625)\n",
      "2025-01-27 20:03:59,630 - CheckValueRanges - INFO - Out of range row for TagName 'R0:Z24WVP.0S10L': Row(TagName='R0:Z24WVP.0S10L', EventTime=datetime.datetime(2024, 1, 2, 11, 30, 0, 1000), Status='Good', Value=2262.40966796875)\n",
      "INFO:CheckValueRanges:Out of range row for TagName 'R0:Z24WVP.0S10L': Row(TagName='R0:Z24WVP.0S10L', EventTime=datetime.datetime(2024, 1, 2, 11, 30, 0, 1000), Status='Good', Value=2262.40966796875)\n",
      "2025-01-27 20:03:59,631 - CheckValueRanges - INFO - Out of range row for TagName 'R0:Z24WVP.0S10L': Row(TagName='R0:Z24WVP.0S10L', EventTime=datetime.datetime(2024, 1, 2, 11, 42, 0, 1000), Status='Good', Value=2260.81982421875)\n",
      "INFO:CheckValueRanges:Out of range row for TagName 'R0:Z24WVP.0S10L': Row(TagName='R0:Z24WVP.0S10L', EventTime=datetime.datetime(2024, 1, 2, 11, 42, 0, 1000), Status='Good', Value=2260.81982421875)\n",
      "2025-01-27 20:03:59,631 - CheckValueRanges - INFO - Out of range row for TagName 'R0:Z24WVP.0S10L': Row(TagName='R0:Z24WVP.0S10L', EventTime=datetime.datetime(2024, 1, 2, 11, 54, 0, 1000), Status='Good', Value=2260.47509765625)\n",
      "INFO:CheckValueRanges:Out of range row for TagName 'R0:Z24WVP.0S10L': Row(TagName='R0:Z24WVP.0S10L', EventTime=datetime.datetime(2024, 1, 2, 11, 54, 0, 1000), Status='Good', Value=2260.47509765625)\n",
      "2025-01-27 20:03:59,631 - CheckValueRanges - INFO - Out of range row for TagName 'R0:Z24WVP.0S10L': Row(TagName='R0:Z24WVP.0S10L', EventTime=datetime.datetime(2024, 1, 2, 12, 6, 0, 1000), Status='Good', Value=2261.022705078125)\n",
      "INFO:CheckValueRanges:Out of range row for TagName 'R0:Z24WVP.0S10L': Row(TagName='R0:Z24WVP.0S10L', EventTime=datetime.datetime(2024, 1, 2, 12, 6, 0, 1000), Status='Good', Value=2261.022705078125)\n",
      "2025-01-27 20:03:59,631 - CheckValueRanges - INFO - Out of range row for TagName 'R0:Z24WVP.0S10L': Row(TagName='R0:Z24WVP.0S10L', EventTime=datetime.datetime(2024, 1, 2, 12, 18, 0, 1000), Status='Good', Value=2262.109619140625)\n",
      "INFO:CheckValueRanges:Out of range row for TagName 'R0:Z24WVP.0S10L': Row(TagName='R0:Z24WVP.0S10L', EventTime=datetime.datetime(2024, 1, 2, 12, 18, 0, 1000), Status='Good', Value=2262.109619140625)\n",
      "2025-01-27 20:03:59,632 - CheckValueRanges - INFO - Out of range row for TagName 'R0:Z24WVP.0S10L': Row(TagName='R0:Z24WVP.0S10L', EventTime=datetime.datetime(2024, 1, 2, 12, 30, 0, 1000), Status='Good', Value=2263.382568359375)\n",
      "INFO:CheckValueRanges:Out of range row for TagName 'R0:Z24WVP.0S10L': Row(TagName='R0:Z24WVP.0S10L', EventTime=datetime.datetime(2024, 1, 2, 12, 30, 0, 1000), Status='Good', Value=2263.382568359375)\n",
      "2025-01-27 20:03:59,633 - CheckValueRanges - INFO - Out of range row for TagName 'R0:Z24WVP.0S10L': Row(TagName='R0:Z24WVP.0S10L', EventTime=datetime.datetime(2024, 1, 2, 12, 36, 0, 1000), Status='Good', Value=2264.488525390625)\n",
      "INFO:CheckValueRanges:Out of range row for TagName 'R0:Z24WVP.0S10L': Row(TagName='R0:Z24WVP.0S10L', EventTime=datetime.datetime(2024, 1, 2, 12, 36, 0, 1000), Status='Good', Value=2264.488525390625)\n",
      "2025-01-27 20:03:59,634 - CheckValueRanges - INFO - Out of range row for TagName 'R0:Z24WVP.0S10L': Row(TagName='R0:Z24WVP.0S10L', EventTime=datetime.datetime(2024, 1, 2, 12, 42, 0, 1000), Status='Good', Value=2265.16357421875)\n",
      "INFO:CheckValueRanges:Out of range row for TagName 'R0:Z24WVP.0S10L': Row(TagName='R0:Z24WVP.0S10L', EventTime=datetime.datetime(2024, 1, 2, 12, 42, 0, 1000), Status='Good', Value=2265.16357421875)\n",
      "2025-01-27 20:03:59,634 - CheckValueRanges - INFO - Out of range row for TagName 'R0:Z24WVP.0S10L': Row(TagName='R0:Z24WVP.0S10L', EventTime=datetime.datetime(2024, 1, 2, 12, 48, 0, 1000), Status='Good', Value=2265.4990234375)\n",
      "INFO:CheckValueRanges:Out of range row for TagName 'R0:Z24WVP.0S10L': Row(TagName='R0:Z24WVP.0S10L', EventTime=datetime.datetime(2024, 1, 2, 12, 48, 0, 1000), Status='Good', Value=2265.4990234375)\n",
      "2025-01-27 20:03:59,634 - CheckValueRanges - INFO - Out of range row for TagName 'R0:Z24WVP.0S10L': Row(TagName='R0:Z24WVP.0S10L', EventTime=datetime.datetime(2024, 1, 2, 12, 53, 0, 1000), Status='Good', Value=2265.6748046875)\n",
      "INFO:CheckValueRanges:Out of range row for TagName 'R0:Z24WVP.0S10L': Row(TagName='R0:Z24WVP.0S10L', EventTime=datetime.datetime(2024, 1, 2, 12, 53, 0, 1000), Status='Good', Value=2265.6748046875)\n",
      "2025-01-27 20:03:59,635 - CheckValueRanges - INFO - Out of range row for TagName 'R0:Z24WVP.0S10L': Row(TagName='R0:Z24WVP.0S10L', EventTime=datetime.datetime(2024, 1, 2, 13, 0, 0, 1000), Status='Good', Value=2265.83740234375)\n",
      "INFO:CheckValueRanges:Out of range row for TagName 'R0:Z24WVP.0S10L': Row(TagName='R0:Z24WVP.0S10L', EventTime=datetime.datetime(2024, 1, 2, 13, 0, 0, 1000), Status='Good', Value=2265.83740234375)\n",
      "2025-01-27 20:03:59,635 - CheckValueRanges - INFO - Out of range row for TagName 'R0:Z24WVP.0S10L': Row(TagName='R0:Z24WVP.0S10L', EventTime=datetime.datetime(2024, 1, 2, 13, 5, 0, 1000), Status='Good', Value=2265.997314453125)\n",
      "INFO:CheckValueRanges:Out of range row for TagName 'R0:Z24WVP.0S10L': Row(TagName='R0:Z24WVP.0S10L', EventTime=datetime.datetime(2024, 1, 2, 13, 5, 0, 1000), Status='Good', Value=2265.997314453125)\n",
      "2025-01-27 20:03:59,636 - CheckValueRanges - INFO - Out of range row for TagName 'R0:Z24WVP.0S10L': Row(TagName='R0:Z24WVP.0S10L', EventTime=datetime.datetime(2024, 1, 2, 13, 17, 0, 1000), Status='Good', Value=2266.131103515625)\n",
      "INFO:CheckValueRanges:Out of range row for TagName 'R0:Z24WVP.0S10L': Row(TagName='R0:Z24WVP.0S10L', EventTime=datetime.datetime(2024, 1, 2, 13, 17, 0, 1000), Status='Good', Value=2266.131103515625)\n",
      "2025-01-27 20:03:59,636 - CheckValueRanges - INFO - Out of range row for TagName 'R0:Z24WVP.0S10L': Row(TagName='R0:Z24WVP.0S10L', EventTime=datetime.datetime(2024, 1, 2, 13, 29, 0, 1000), Status='Good', Value=2266.2158203125)\n",
      "INFO:CheckValueRanges:Out of range row for TagName 'R0:Z24WVP.0S10L': Row(TagName='R0:Z24WVP.0S10L', EventTime=datetime.datetime(2024, 1, 2, 13, 29, 0, 1000), Status='Good', Value=2266.2158203125)\n",
      "2025-01-27 20:03:59,637 - CheckValueRanges - INFO - Out of range row for TagName 'R0:Z24WVP.0S10L': Row(TagName='R0:Z24WVP.0S10L', EventTime=datetime.datetime(2024, 1, 2, 13, 41, 0, 1000), Status='Good', Value=2266.2275390625)\n",
      "INFO:CheckValueRanges:Out of range row for TagName 'R0:Z24WVP.0S10L': Row(TagName='R0:Z24WVP.0S10L', EventTime=datetime.datetime(2024, 1, 2, 13, 41, 0, 1000), Status='Good', Value=2266.2275390625)\n",
      "2025-01-27 20:03:59,637 - CheckValueRanges - INFO - Out of range row for TagName 'R0:Z24WVP.0S10L': Row(TagName='R0:Z24WVP.0S10L', EventTime=datetime.datetime(2024, 1, 2, 13, 53, 0, 1000), Status='Good', Value=2266.1435546875)\n",
      "INFO:CheckValueRanges:Out of range row for TagName 'R0:Z24WVP.0S10L': Row(TagName='R0:Z24WVP.0S10L', EventTime=datetime.datetime(2024, 1, 2, 13, 53, 0, 1000), Status='Good', Value=2266.1435546875)\n",
      "2025-01-27 20:03:59,637 - CheckValueRanges - INFO - Out of range row for TagName 'R0:Z24WVP.0S10L': Row(TagName='R0:Z24WVP.0S10L', EventTime=datetime.datetime(2024, 1, 2, 14, 5, 0, 1000), Status='Good', Value=2265.940185546875)\n",
      "INFO:CheckValueRanges:Out of range row for TagName 'R0:Z24WVP.0S10L': Row(TagName='R0:Z24WVP.0S10L', EventTime=datetime.datetime(2024, 1, 2, 14, 5, 0, 1000), Status='Good', Value=2265.940185546875)\n",
      "2025-01-27 20:03:59,638 - CheckValueRanges - INFO - Out of range row for TagName 'R0:Z24WVP.0S10L': Row(TagName='R0:Z24WVP.0S10L', EventTime=datetime.datetime(2024, 1, 2, 14, 17, 0, 1000), Status='Good', Value=2265.593994140625)\n",
      "INFO:CheckValueRanges:Out of range row for TagName 'R0:Z24WVP.0S10L': Row(TagName='R0:Z24WVP.0S10L', EventTime=datetime.datetime(2024, 1, 2, 14, 17, 0, 1000), Status='Good', Value=2265.593994140625)\n",
      "2025-01-27 20:03:59,638 - CheckValueRanges - INFO - Out of range row for TagName 'R0:Z24WVP.0S10L': Row(TagName='R0:Z24WVP.0S10L', EventTime=datetime.datetime(2024, 1, 2, 14, 25, 0, 1000), Status='Good', Value=2265.081787109375)\n",
      "INFO:CheckValueRanges:Out of range row for TagName 'R0:Z24WVP.0S10L': Row(TagName='R0:Z24WVP.0S10L', EventTime=datetime.datetime(2024, 1, 2, 14, 25, 0, 1000), Status='Good', Value=2265.081787109375)\n",
      "2025-01-27 20:03:59,639 - CheckValueRanges - INFO - Out of range row for TagName 'R0:Z24WVP.0S10L': Row(TagName='R0:Z24WVP.0S10L', EventTime=datetime.datetime(2024, 1, 2, 14, 29, 0, 1000), Status='Good', Value=2264.38720703125)\n",
      "INFO:CheckValueRanges:Out of range row for TagName 'R0:Z24WVP.0S10L': Row(TagName='R0:Z24WVP.0S10L', EventTime=datetime.datetime(2024, 1, 2, 14, 29, 0, 1000), Status='Good', Value=2264.38720703125)\n",
      "2025-01-27 20:03:59,639 - CheckValueRanges - INFO - Out of range row for TagName 'R0:Z24WVP.0S10L': Row(TagName='R0:Z24WVP.0S10L', EventTime=datetime.datetime(2024, 1, 2, 14, 37, 0, 1000), Status='Good', Value=2263.521484375)\n",
      "INFO:CheckValueRanges:Out of range row for TagName 'R0:Z24WVP.0S10L': Row(TagName='R0:Z24WVP.0S10L', EventTime=datetime.datetime(2024, 1, 2, 14, 37, 0, 1000), Status='Good', Value=2263.521484375)\n",
      "2025-01-27 20:03:59,640 - CheckValueRanges - INFO - Out of range row for TagName 'R0:Z24WVP.0S10L': Row(TagName='R0:Z24WVP.0S10L', EventTime=datetime.datetime(2024, 1, 2, 14, 49, 0, 1000), Status='Good', Value=2262.5029296875)\n",
      "INFO:CheckValueRanges:Out of range row for TagName 'R0:Z24WVP.0S10L': Row(TagName='R0:Z24WVP.0S10L', EventTime=datetime.datetime(2024, 1, 2, 14, 49, 0, 1000), Status='Good', Value=2262.5029296875)\n",
      "2025-01-27 20:03:59,640 - CheckValueRanges - INFO - Out of range row for TagName 'R0:Z24WVP.0S10L': Row(TagName='R0:Z24WVP.0S10L', EventTime=datetime.datetime(2024, 1, 2, 15, 1, 0, 1000), Status='Good', Value=2261.349609375)\n",
      "INFO:CheckValueRanges:Out of range row for TagName 'R0:Z24WVP.0S10L': Row(TagName='R0:Z24WVP.0S10L', EventTime=datetime.datetime(2024, 1, 2, 15, 1, 0, 1000), Status='Good', Value=2261.349609375)\n",
      "2025-01-27 20:03:59,642 - CheckValueRanges - INFO - Out of range row for TagName 'R0:Z24WVP.0S10L': Row(TagName='R0:Z24WVP.0S10L', EventTime=datetime.datetime(2024, 1, 2, 15, 13, 0, 1000), Status='Good', Value=2260.07958984375)\n",
      "INFO:CheckValueRanges:Out of range row for TagName 'R0:Z24WVP.0S10L': Row(TagName='R0:Z24WVP.0S10L', EventTime=datetime.datetime(2024, 1, 2, 15, 13, 0, 1000), Status='Good', Value=2260.07958984375)\n",
      "2025-01-27 20:03:59,642 - CheckValueRanges - INFO - Out of range row for TagName 'R0:Z24WVP.0S10L': Row(TagName='R0:Z24WVP.0S10L', EventTime=datetime.datetime(2024, 1, 2, 15, 25, 0, 1000), Status='Good', Value=2258.71142578125)\n",
      "INFO:CheckValueRanges:Out of range row for TagName 'R0:Z24WVP.0S10L': Row(TagName='R0:Z24WVP.0S10L', EventTime=datetime.datetime(2024, 1, 2, 15, 25, 0, 1000), Status='Good', Value=2258.71142578125)\n",
      "2025-01-27 20:03:59,643 - CheckValueRanges - INFO - Out of range row for TagName 'R0:Z24WVP.0S10L': Row(TagName='R0:Z24WVP.0S10L', EventTime=datetime.datetime(2024, 1, 2, 15, 37, 0, 1000), Status='Good', Value=2257.26318359375)\n",
      "INFO:CheckValueRanges:Out of range row for TagName 'R0:Z24WVP.0S10L': Row(TagName='R0:Z24WVP.0S10L', EventTime=datetime.datetime(2024, 1, 2, 15, 37, 0, 1000), Status='Good', Value=2257.26318359375)\n",
      "2025-01-27 20:03:59,643 - CheckValueRanges - INFO - Out of range row for TagName 'R0:Z24WVP.0S10L': Row(TagName='R0:Z24WVP.0S10L', EventTime=datetime.datetime(2024, 1, 2, 15, 49, 0, 1000), Status='Good', Value=2255.7529296875)\n",
      "INFO:CheckValueRanges:Out of range row for TagName 'R0:Z24WVP.0S10L': Row(TagName='R0:Z24WVP.0S10L', EventTime=datetime.datetime(2024, 1, 2, 15, 49, 0, 1000), Status='Good', Value=2255.7529296875)\n",
      "2025-01-27 20:03:59,644 - CheckValueRanges - INFO - Out of range row for TagName 'R0:Z24WVP.0S10L': Row(TagName='R0:Z24WVP.0S10L', EventTime=datetime.datetime(2024, 1, 2, 16, 1, 0, 1000), Status='Good', Value=2254.198974609375)\n",
      "INFO:CheckValueRanges:Out of range row for TagName 'R0:Z24WVP.0S10L': Row(TagName='R0:Z24WVP.0S10L', EventTime=datetime.datetime(2024, 1, 2, 16, 1, 0, 1000), Status='Good', Value=2254.198974609375)\n",
      "2025-01-27 20:03:59,645 - CheckValueRanges - INFO - Out of range row for TagName 'R0:Z24WVP.0S10L': Row(TagName='R0:Z24WVP.0S10L', EventTime=datetime.datetime(2024, 1, 2, 16, 13, 0, 1000), Status='Good', Value=2252.61962890625)\n",
      "INFO:CheckValueRanges:Out of range row for TagName 'R0:Z24WVP.0S10L': Row(TagName='R0:Z24WVP.0S10L', EventTime=datetime.datetime(2024, 1, 2, 16, 13, 0, 1000), Status='Good', Value=2252.61962890625)\n",
      "2025-01-27 20:03:59,645 - CheckValueRanges - INFO - Out of range row for TagName 'R0:Z24WVP.0S10L': Row(TagName='R0:Z24WVP.0S10L', EventTime=datetime.datetime(2024, 1, 2, 16, 25, 0, 1000), Status='Good', Value=2251.032958984375)\n",
      "INFO:CheckValueRanges:Out of range row for TagName 'R0:Z24WVP.0S10L': Row(TagName='R0:Z24WVP.0S10L', EventTime=datetime.datetime(2024, 1, 2, 16, 25, 0, 1000), Status='Good', Value=2251.032958984375)\n",
      "2025-01-27 20:03:59,646 - CheckValueRanges - INFO - Out of range row for TagName 'R0:Z24WVP.0S10L': Row(TagName='R0:Z24WVP.0S10L', EventTime=datetime.datetime(2024, 1, 2, 16, 37, 0, 1000), Status='Good', Value=2249.457275390625)\n",
      "INFO:CheckValueRanges:Out of range row for TagName 'R0:Z24WVP.0S10L': Row(TagName='R0:Z24WVP.0S10L', EventTime=datetime.datetime(2024, 1, 2, 16, 37, 0, 1000), Status='Good', Value=2249.457275390625)\n",
      "2025-01-27 20:03:59,647 - CheckValueRanges - INFO - Out of range row for TagName 'R0:Z24WVP.0S10L': Row(TagName='R0:Z24WVP.0S10L', EventTime=datetime.datetime(2024, 1, 2, 16, 49, 0, 1000), Status='Good', Value=2247.91064453125)\n",
      "INFO:CheckValueRanges:Out of range row for TagName 'R0:Z24WVP.0S10L': Row(TagName='R0:Z24WVP.0S10L', EventTime=datetime.datetime(2024, 1, 2, 16, 49, 0, 1000), Status='Good', Value=2247.91064453125)\n",
      "2025-01-27 20:03:59,647 - CheckValueRanges - INFO - Out of range row for TagName 'R0:Z24WVP.0S10L': Row(TagName='R0:Z24WVP.0S10L', EventTime=datetime.datetime(2024, 1, 2, 17, 1, 0, 1000), Status='Good', Value=2246.4111328125)\n",
      "INFO:CheckValueRanges:Out of range row for TagName 'R0:Z24WVP.0S10L': Row(TagName='R0:Z24WVP.0S10L', EventTime=datetime.datetime(2024, 1, 2, 17, 1, 0, 1000), Status='Good', Value=2246.4111328125)\n",
      "2025-01-27 20:03:59,648 - CheckValueRanges - INFO - Out of range row for TagName 'R0:Z24WVP.0S10L': Row(TagName='R0:Z24WVP.0S10L', EventTime=datetime.datetime(2024, 1, 2, 17, 13, 0, 1000), Status='Good', Value=2244.9775390625)\n",
      "INFO:CheckValueRanges:Out of range row for TagName 'R0:Z24WVP.0S10L': Row(TagName='R0:Z24WVP.0S10L', EventTime=datetime.datetime(2024, 1, 2, 17, 13, 0, 1000), Status='Good', Value=2244.9775390625)\n",
      "2025-01-27 20:03:59,648 - CheckValueRanges - INFO - Out of range row for TagName 'R0:Z24WVP.0S10L': Row(TagName='R0:Z24WVP.0S10L', EventTime=datetime.datetime(2024, 1, 2, 17, 25, 0, 1000), Status='Good', Value=2243.62744140625)\n",
      "INFO:CheckValueRanges:Out of range row for TagName 'R0:Z24WVP.0S10L': Row(TagName='R0:Z24WVP.0S10L', EventTime=datetime.datetime(2024, 1, 2, 17, 25, 0, 1000), Status='Good', Value=2243.62744140625)\n",
      "2025-01-27 20:03:59,649 - CheckValueRanges - INFO - Out of range row for TagName 'R0:Z24WVP.0S10L': Row(TagName='R0:Z24WVP.0S10L', EventTime=datetime.datetime(2024, 1, 2, 17, 37, 0, 1000), Status='Good', Value=2242.379150390625)\n",
      "INFO:CheckValueRanges:Out of range row for TagName 'R0:Z24WVP.0S10L': Row(TagName='R0:Z24WVP.0S10L', EventTime=datetime.datetime(2024, 1, 2, 17, 37, 0, 1000), Status='Good', Value=2242.379150390625)\n",
      "2025-01-27 20:03:59,649 - CheckValueRanges - INFO - Out of range row for TagName 'R0:Z24WVP.0S10L': Row(TagName='R0:Z24WVP.0S10L', EventTime=datetime.datetime(2024, 1, 2, 17, 49, 0, 1000), Status='Good', Value=2241.251220703125)\n",
      "INFO:CheckValueRanges:Out of range row for TagName 'R0:Z24WVP.0S10L': Row(TagName='R0:Z24WVP.0S10L', EventTime=datetime.datetime(2024, 1, 2, 17, 49, 0, 1000), Status='Good', Value=2241.251220703125)\n",
      "2025-01-27 20:03:59,650 - CheckValueRanges - INFO - Out of range row for TagName 'R0:Z24WVP.0S10L': Row(TagName='R0:Z24WVP.0S10L', EventTime=datetime.datetime(2024, 1, 2, 18, 1, 0, 1000), Status='Good', Value=2240.26171875)\n",
      "INFO:CheckValueRanges:Out of range row for TagName 'R0:Z24WVP.0S10L': Row(TagName='R0:Z24WVP.0S10L', EventTime=datetime.datetime(2024, 1, 2, 18, 1, 0, 1000), Status='Good', Value=2240.26171875)\n",
      "2025-01-27 20:03:59,650 - CheckValueRanges - INFO - Out of range row for TagName 'R0:Z24WVP.0S10L': Row(TagName='R0:Z24WVP.0S10L', EventTime=datetime.datetime(2024, 1, 2, 18, 13, 0, 1000), Status='Good', Value=2239.4287109375)\n",
      "INFO:CheckValueRanges:Out of range row for TagName 'R0:Z24WVP.0S10L': Row(TagName='R0:Z24WVP.0S10L', EventTime=datetime.datetime(2024, 1, 2, 18, 13, 0, 1000), Status='Good', Value=2239.4287109375)\n",
      "2025-01-27 20:03:59,651 - CheckValueRanges - INFO - Out of range row for TagName 'R0:Z24WVP.0S10L': Row(TagName='R0:Z24WVP.0S10L', EventTime=datetime.datetime(2024, 1, 2, 18, 25, 0, 1000), Status='Good', Value=2238.770263671875)\n",
      "INFO:CheckValueRanges:Out of range row for TagName 'R0:Z24WVP.0S10L': Row(TagName='R0:Z24WVP.0S10L', EventTime=datetime.datetime(2024, 1, 2, 18, 25, 0, 1000), Status='Good', Value=2238.770263671875)\n",
      "2025-01-27 20:03:59,651 - CheckValueRanges - INFO - Out of range row for TagName 'R0:Z24WVP.0S10L': Row(TagName='R0:Z24WVP.0S10L', EventTime=datetime.datetime(2024, 1, 2, 18, 37, 0, 1000), Status='Good', Value=2238.304931640625)\n",
      "INFO:CheckValueRanges:Out of range row for TagName 'R0:Z24WVP.0S10L': Row(TagName='R0:Z24WVP.0S10L', EventTime=datetime.datetime(2024, 1, 2, 18, 37, 0, 1000), Status='Good', Value=2238.304931640625)\n",
      "2025-01-27 20:03:59,652 - CheckValueRanges - INFO - Out of range row for TagName 'R0:Z24WVP.0S10L': Row(TagName='R0:Z24WVP.0S10L', EventTime=datetime.datetime(2024, 1, 2, 18, 49, 0, 1000), Status='Good', Value=2238.05078125)\n",
      "INFO:CheckValueRanges:Out of range row for TagName 'R0:Z24WVP.0S10L': Row(TagName='R0:Z24WVP.0S10L', EventTime=datetime.datetime(2024, 1, 2, 18, 49, 0, 1000), Status='Good', Value=2238.05078125)\n",
      "2025-01-27 20:03:59,652 - CheckValueRanges - INFO - Out of range row for TagName 'R0:Z24WVP.0S10L': Row(TagName='R0:Z24WVP.0S10L', EventTime=datetime.datetime(2024, 1, 2, 19, 1, 0, 1000), Status='Good', Value=2238.026123046875)\n",
      "INFO:CheckValueRanges:Out of range row for TagName 'R0:Z24WVP.0S10L': Row(TagName='R0:Z24WVP.0S10L', EventTime=datetime.datetime(2024, 1, 2, 19, 1, 0, 1000), Status='Good', Value=2238.026123046875)\n",
      "2025-01-27 20:03:59,652 - CheckValueRanges - INFO - Out of range row for TagName 'R0:Z24WVP.0S10L': Row(TagName='R0:Z24WVP.0S10L', EventTime=datetime.datetime(2024, 1, 2, 19, 13, 0, 1000), Status='Good', Value=2238.2490234375)\n",
      "INFO:CheckValueRanges:Out of range row for TagName 'R0:Z24WVP.0S10L': Row(TagName='R0:Z24WVP.0S10L', EventTime=datetime.datetime(2024, 1, 2, 19, 13, 0, 1000), Status='Good', Value=2238.2490234375)\n",
      "2025-01-27 20:03:59,653 - CheckValueRanges - INFO - Out of range row for TagName 'R0:Z24WVP.0S10L': Row(TagName='R0:Z24WVP.0S10L', EventTime=datetime.datetime(2024, 1, 2, 19, 25, 0, 1000), Status='Good', Value=2238.737548828125)\n",
      "INFO:CheckValueRanges:Out of range row for TagName 'R0:Z24WVP.0S10L': Row(TagName='R0:Z24WVP.0S10L', EventTime=datetime.datetime(2024, 1, 2, 19, 25, 0, 1000), Status='Good', Value=2238.737548828125)\n",
      "2025-01-27 20:03:59,654 - CheckValueRanges - INFO - Out of range row for TagName 'R0:Z24WVP.0S10L': Row(TagName='R0:Z24WVP.0S10L', EventTime=datetime.datetime(2024, 1, 2, 19, 37, 0, 1000), Status='Good', Value=2239.51025390625)\n",
      "INFO:CheckValueRanges:Out of range row for TagName 'R0:Z24WVP.0S10L': Row(TagName='R0:Z24WVP.0S10L', EventTime=datetime.datetime(2024, 1, 2, 19, 37, 0, 1000), Status='Good', Value=2239.51025390625)\n",
      "2025-01-27 20:03:59,655 - CheckValueRanges - INFO - Out of range row for TagName 'R0:Z24WVP.0S10L': Row(TagName='R0:Z24WVP.0S10L', EventTime=datetime.datetime(2024, 1, 2, 19, 49, 0, 1000), Status='Good', Value=2240.5849609375)\n",
      "INFO:CheckValueRanges:Out of range row for TagName 'R0:Z24WVP.0S10L': Row(TagName='R0:Z24WVP.0S10L', EventTime=datetime.datetime(2024, 1, 2, 19, 49, 0, 1000), Status='Good', Value=2240.5849609375)\n",
      "2025-01-27 20:03:59,655 - CheckValueRanges - INFO - Out of range row for TagName 'R0:Z24WVP.0S10L': Row(TagName='R0:Z24WVP.0S10L', EventTime=datetime.datetime(2024, 1, 2, 20, 1, 0, 1000), Status='Good', Value=2241.980224609375)\n",
      "INFO:CheckValueRanges:Out of range row for TagName 'R0:Z24WVP.0S10L': Row(TagName='R0:Z24WVP.0S10L', EventTime=datetime.datetime(2024, 1, 2, 20, 1, 0, 1000), Status='Good', Value=2241.980224609375)\n",
      "2025-01-27 20:03:59,655 - CheckValueRanges - INFO - Out of range row for TagName 'R0:Z24WVP.0S10L': Row(TagName='R0:Z24WVP.0S10L', EventTime=datetime.datetime(2024, 1, 2, 20, 13, 0, 1000), Status='Good', Value=2243.7138671875)\n",
      "INFO:CheckValueRanges:Out of range row for TagName 'R0:Z24WVP.0S10L': Row(TagName='R0:Z24WVP.0S10L', EventTime=datetime.datetime(2024, 1, 2, 20, 13, 0, 1000), Status='Good', Value=2243.7138671875)\n",
      "2025-01-27 20:03:59,656 - CheckValueRanges - INFO - Out of range row for TagName 'R0:Z24WVP.0S10L': Row(TagName='R0:Z24WVP.0S10L', EventTime=datetime.datetime(2024, 1, 2, 20, 25, 0, 1000), Status='Good', Value=2245.8046875)\n",
      "INFO:CheckValueRanges:Out of range row for TagName 'R0:Z24WVP.0S10L': Row(TagName='R0:Z24WVP.0S10L', EventTime=datetime.datetime(2024, 1, 2, 20, 25, 0, 1000), Status='Good', Value=2245.8046875)\n",
      "2025-01-27 20:03:59,657 - CheckValueRanges - INFO - Out of range row for TagName 'R0:Z24WVP.0S10L': Row(TagName='R0:Z24WVP.0S10L', EventTime=datetime.datetime(2024, 1, 2, 20, 37, 0, 1000), Status='Good', Value=2248.270263671875)\n",
      "INFO:CheckValueRanges:Out of range row for TagName 'R0:Z24WVP.0S10L': Row(TagName='R0:Z24WVP.0S10L', EventTime=datetime.datetime(2024, 1, 2, 20, 37, 0, 1000), Status='Good', Value=2248.270263671875)\n",
      "2025-01-27 20:03:59,657 - CheckValueRanges - INFO - Out of range row for TagName 'R0:Z24WVP.0S10L': Row(TagName='R0:Z24WVP.0S10L', EventTime=datetime.datetime(2024, 1, 2, 20, 49, 0, 1000), Status='Good', Value=2251.129150390625)\n",
      "INFO:CheckValueRanges:Out of range row for TagName 'R0:Z24WVP.0S10L': Row(TagName='R0:Z24WVP.0S10L', EventTime=datetime.datetime(2024, 1, 2, 20, 49, 0, 1000), Status='Good', Value=2251.129150390625)\n",
      "2025-01-27 20:03:59,658 - CheckValueRanges - INFO - Out of range row for TagName 'R0:Z24WVP.0S10L': Row(TagName='R0:Z24WVP.0S10L', EventTime=datetime.datetime(2024, 1, 2, 21, 1, 0, 1000), Status='Good', Value=2254.3994140625)\n",
      "INFO:CheckValueRanges:Out of range row for TagName 'R0:Z24WVP.0S10L': Row(TagName='R0:Z24WVP.0S10L', EventTime=datetime.datetime(2024, 1, 2, 21, 1, 0, 1000), Status='Good', Value=2254.3994140625)\n",
      "2025-01-27 20:03:59,658 - CheckValueRanges - INFO - Out of range row for TagName 'R0:Z24WVP.0S10L': Row(TagName='R0:Z24WVP.0S10L', EventTime=datetime.datetime(2024, 1, 2, 21, 13, 0, 1000), Status='Good', Value=2258.099365234375)\n",
      "INFO:CheckValueRanges:Out of range row for TagName 'R0:Z24WVP.0S10L': Row(TagName='R0:Z24WVP.0S10L', EventTime=datetime.datetime(2024, 1, 2, 21, 13, 0, 1000), Status='Good', Value=2258.099365234375)\n",
      "2025-01-27 20:03:59,659 - CheckValueRanges - INFO - Out of range row for TagName 'R0:Z24WVP.0S10L': Row(TagName='R0:Z24WVP.0S10L', EventTime=datetime.datetime(2024, 1, 2, 21, 25, 0, 1000), Status='Good', Value=2262.247314453125)\n",
      "INFO:CheckValueRanges:Out of range row for TagName 'R0:Z24WVP.0S10L': Row(TagName='R0:Z24WVP.0S10L', EventTime=datetime.datetime(2024, 1, 2, 21, 25, 0, 1000), Status='Good', Value=2262.247314453125)\n",
      "2025-01-27 20:03:59,660 - CheckValueRanges - INFO - Out of range row for TagName 'R0:Z24WVP.0S10L': Row(TagName='R0:Z24WVP.0S10L', EventTime=datetime.datetime(2024, 1, 2, 21, 26, 0, 1000), Status='Good', Value=2266.861083984375)\n",
      "INFO:CheckValueRanges:Out of range row for TagName 'R0:Z24WVP.0S10L': Row(TagName='R0:Z24WVP.0S10L', EventTime=datetime.datetime(2024, 1, 2, 21, 26, 0, 1000), Status='Good', Value=2266.861083984375)\n",
      "2025-01-27 20:03:59,661 - CheckValueRanges - INFO - Out of range row for TagName 'R0:Z24WVP.0S10L': Row(TagName='R0:Z24WVP.0S10L', EventTime=datetime.datetime(2024, 1, 2, 21, 37, 0, 1000), Status='Good', Value=2271.912353515625)\n",
      "INFO:CheckValueRanges:Out of range row for TagName 'R0:Z24WVP.0S10L': Row(TagName='R0:Z24WVP.0S10L', EventTime=datetime.datetime(2024, 1, 2, 21, 37, 0, 1000), Status='Good', Value=2271.912353515625)\n",
      "2025-01-27 20:03:59,662 - CheckValueRanges - INFO - Out of range row for TagName 'R0:Z24WVP.0S10L': Row(TagName='R0:Z24WVP.0S10L', EventTime=datetime.datetime(2024, 1, 2, 21, 38, 0, 1000), Status='Good', Value=2277.185791015625)\n",
      "INFO:CheckValueRanges:Out of range row for TagName 'R0:Z24WVP.0S10L': Row(TagName='R0:Z24WVP.0S10L', EventTime=datetime.datetime(2024, 1, 2, 21, 38, 0, 1000), Status='Good', Value=2277.185791015625)\n",
      "2025-01-27 20:03:59,662 - CheckValueRanges - INFO - Out of range row for TagName 'R0:Z24WVP.0S10L': Row(TagName='R0:Z24WVP.0S10L', EventTime=datetime.datetime(2024, 1, 2, 21, 50, 0, 1000), Status='Good', Value=2282.4189453125)\n",
      "INFO:CheckValueRanges:Out of range row for TagName 'R0:Z24WVP.0S10L': Row(TagName='R0:Z24WVP.0S10L', EventTime=datetime.datetime(2024, 1, 2, 21, 50, 0, 1000), Status='Good', Value=2282.4189453125)\n",
      "2025-01-27 20:03:59,663 - CheckValueRanges - INFO - Out of range row for TagName 'R0:Z24WVP.0S10L': Row(TagName='R0:Z24WVP.0S10L', EventTime=datetime.datetime(2024, 1, 2, 22, 2, 0, 1000), Status='Good', Value=2287.349365234375)\n",
      "INFO:CheckValueRanges:Out of range row for TagName 'R0:Z24WVP.0S10L': Row(TagName='R0:Z24WVP.0S10L', EventTime=datetime.datetime(2024, 1, 2, 22, 2, 0, 1000), Status='Good', Value=2287.349365234375)\n",
      "2025-01-27 20:03:59,663 - CheckValueRanges - INFO - Out of range row for TagName 'R0:Z24WVP.0S10L': Row(TagName='R0:Z24WVP.0S10L', EventTime=datetime.datetime(2024, 1, 2, 22, 14, 0, 1000), Status='Good', Value=2291.715087890625)\n",
      "INFO:CheckValueRanges:Out of range row for TagName 'R0:Z24WVP.0S10L': Row(TagName='R0:Z24WVP.0S10L', EventTime=datetime.datetime(2024, 1, 2, 22, 14, 0, 1000), Status='Good', Value=2291.715087890625)\n",
      "2025-01-27 20:03:59,664 - CheckValueRanges - INFO - Out of range row for TagName 'R0:Z24WVP.0S10L': Row(TagName='R0:Z24WVP.0S10L', EventTime=datetime.datetime(2024, 1, 2, 22, 26, 0, 1000), Status='Good', Value=2295.253662109375)\n",
      "INFO:CheckValueRanges:Out of range row for TagName 'R0:Z24WVP.0S10L': Row(TagName='R0:Z24WVP.0S10L', EventTime=datetime.datetime(2024, 1, 2, 22, 26, 0, 1000), Status='Good', Value=2295.253662109375)\n",
      "2025-01-27 20:03:59,664 - CheckValueRanges - INFO - Out of range row for TagName 'R0:Z24WVP.0S10L': Row(TagName='R0:Z24WVP.0S10L', EventTime=datetime.datetime(2024, 1, 2, 22, 30, 0, 1000), Status='Good', Value=2297.702880859375)\n",
      "INFO:CheckValueRanges:Out of range row for TagName 'R0:Z24WVP.0S10L': Row(TagName='R0:Z24WVP.0S10L', EventTime=datetime.datetime(2024, 1, 2, 22, 30, 0, 1000), Status='Good', Value=2297.702880859375)\n",
      "2025-01-27 20:03:59,665 - CheckValueRanges - INFO - Out of range row for TagName 'R0:Z24WVP.0S10L': Row(TagName='R0:Z24WVP.0S10L', EventTime=datetime.datetime(2024, 1, 2, 22, 38, 0, 1000), Status='Good', Value=2299.0244140625)\n",
      "INFO:CheckValueRanges:Out of range row for TagName 'R0:Z24WVP.0S10L': Row(TagName='R0:Z24WVP.0S10L', EventTime=datetime.datetime(2024, 1, 2, 22, 38, 0, 1000), Status='Good', Value=2299.0244140625)\n",
      "2025-01-27 20:03:59,665 - CheckValueRanges - INFO - Out of range row for TagName 'R0:Z24WVP.0S10L': Row(TagName='R0:Z24WVP.0S10L', EventTime=datetime.datetime(2024, 1, 2, 22, 40, 0, 1000), Status='Good', Value=2300.074951171875)\n",
      "INFO:CheckValueRanges:Out of range row for TagName 'R0:Z24WVP.0S10L': Row(TagName='R0:Z24WVP.0S10L', EventTime=datetime.datetime(2024, 1, 2, 22, 40, 0, 1000), Status='Good', Value=2300.074951171875)\n",
      "2025-01-27 20:03:59,666 - CheckValueRanges - INFO - Out of range row for TagName 'R0:Z24WVP.0S10L': Row(TagName='R0:Z24WVP.0S10L', EventTime=datetime.datetime(2024, 1, 2, 22, 42, 0, 1000), Status='Good', Value=2301.159912109375)\n",
      "INFO:CheckValueRanges:Out of range row for TagName 'R0:Z24WVP.0S10L': Row(TagName='R0:Z24WVP.0S10L', EventTime=datetime.datetime(2024, 1, 2, 22, 42, 0, 1000), Status='Good', Value=2301.159912109375)\n",
      "2025-01-27 20:03:59,667 - CheckValueRanges - INFO - Out of range row for TagName 'R0:Z24WVP.0S10L': Row(TagName='R0:Z24WVP.0S10L', EventTime=datetime.datetime(2024, 1, 2, 22, 43, 0, 1000), Status='Good', Value=2299.48193359375)\n",
      "INFO:CheckValueRanges:Out of range row for TagName 'R0:Z24WVP.0S10L': Row(TagName='R0:Z24WVP.0S10L', EventTime=datetime.datetime(2024, 1, 2, 22, 43, 0, 1000), Status='Good', Value=2299.48193359375)\n",
      "2025-01-27 20:03:59,667 - CheckValueRanges - INFO - Out of range row for TagName 'R0:Z24WVP.0S10L': Row(TagName='R0:Z24WVP.0S10L', EventTime=datetime.datetime(2024, 1, 2, 22, 48, 0, 1000), Status='Good', Value=2294.14404296875)\n",
      "INFO:CheckValueRanges:Out of range row for TagName 'R0:Z24WVP.0S10L': Row(TagName='R0:Z24WVP.0S10L', EventTime=datetime.datetime(2024, 1, 2, 22, 48, 0, 1000), Status='Good', Value=2294.14404296875)\n",
      "2025-01-27 20:03:59,668 - CheckValueRanges - INFO - Out of range row for TagName 'R0:Z24WVP.0S10L': Row(TagName='R0:Z24WVP.0S10L', EventTime=datetime.datetime(2024, 1, 2, 22, 52, 0, 1000), Status='Good', Value=2292.41796875)\n",
      "INFO:CheckValueRanges:Out of range row for TagName 'R0:Z24WVP.0S10L': Row(TagName='R0:Z24WVP.0S10L', EventTime=datetime.datetime(2024, 1, 2, 22, 52, 0, 1000), Status='Good', Value=2292.41796875)\n",
      "2025-01-27 20:03:59,668 - CheckValueRanges - INFO - Out of range row for TagName 'R0:Z24WVP.0S10L': Row(TagName='R0:Z24WVP.0S10L', EventTime=datetime.datetime(2024, 1, 2, 22, 55, 0, 1000), Status='Good', Value=2294.115966796875)\n",
      "INFO:CheckValueRanges:Out of range row for TagName 'R0:Z24WVP.0S10L': Row(TagName='R0:Z24WVP.0S10L', EventTime=datetime.datetime(2024, 1, 2, 22, 55, 0, 1000), Status='Good', Value=2294.115966796875)\n",
      "2025-01-27 20:03:59,669 - CheckValueRanges - INFO - Out of range row for TagName 'R0:Z24WVP.0S10L': Row(TagName='R0:Z24WVP.0S10L', EventTime=datetime.datetime(2024, 1, 2, 23, 0, 0, 1000), Status='Good', Value=2296.5166015625)\n",
      "INFO:CheckValueRanges:Out of range row for TagName 'R0:Z24WVP.0S10L': Row(TagName='R0:Z24WVP.0S10L', EventTime=datetime.datetime(2024, 1, 2, 23, 0, 0, 1000), Status='Good', Value=2296.5166015625)\n",
      "2025-01-27 20:03:59,670 - CheckValueRanges - INFO - Out of range row for TagName 'R0:Z24WVP.0S10L': Row(TagName='R0:Z24WVP.0S10L', EventTime=datetime.datetime(2024, 1, 2, 23, 5, 0, 1000), Status='Good', Value=2298.88916015625)\n",
      "INFO:CheckValueRanges:Out of range row for TagName 'R0:Z24WVP.0S10L': Row(TagName='R0:Z24WVP.0S10L', EventTime=datetime.datetime(2024, 1, 2, 23, 5, 0, 1000), Status='Good', Value=2298.88916015625)\n",
      "2025-01-27 20:03:59,671 - CheckValueRanges - INFO - Out of range row for TagName 'R0:Z24WVP.0S10L': Row(TagName='R0:Z24WVP.0S10L', EventTime=datetime.datetime(2024, 1, 2, 23, 12, 0, 1000), Status='Good', Value=2306.002197265625)\n",
      "INFO:CheckValueRanges:Out of range row for TagName 'R0:Z24WVP.0S10L': Row(TagName='R0:Z24WVP.0S10L', EventTime=datetime.datetime(2024, 1, 2, 23, 12, 0, 1000), Status='Good', Value=2306.002197265625)\n",
      "2025-01-27 20:03:59,672 - CheckValueRanges - INFO - Out of range row for TagName 'R0:Z24WVP.0S10L': Row(TagName='R0:Z24WVP.0S10L', EventTime=datetime.datetime(2024, 1, 2, 23, 17, 0, 1000), Status='Good', Value=2314.76123046875)\n",
      "INFO:CheckValueRanges:Out of range row for TagName 'R0:Z24WVP.0S10L': Row(TagName='R0:Z24WVP.0S10L', EventTime=datetime.datetime(2024, 1, 2, 23, 17, 0, 1000), Status='Good', Value=2314.76123046875)\n",
      "2025-01-27 20:03:59,672 - CheckValueRanges - INFO - Out of range row for TagName 'R0:Z24WVP.0S10L': Row(TagName='R0:Z24WVP.0S10L', EventTime=datetime.datetime(2024, 1, 2, 23, 29, 0, 1000), Status='Good', Value=2319.60791015625)\n",
      "INFO:CheckValueRanges:Out of range row for TagName 'R0:Z24WVP.0S10L': Row(TagName='R0:Z24WVP.0S10L', EventTime=datetime.datetime(2024, 1, 2, 23, 29, 0, 1000), Status='Good', Value=2319.60791015625)\n",
      "2025-01-27 20:03:59,672 - CheckValueRanges - INFO - Out of range row for TagName 'R0:Z24WVP.0S10L': Row(TagName='R0:Z24WVP.0S10L', EventTime=datetime.datetime(2024, 1, 2, 23, 41, 0, 1000), Status='Good', Value=2314.983642578125)\n",
      "INFO:CheckValueRanges:Out of range row for TagName 'R0:Z24WVP.0S10L': Row(TagName='R0:Z24WVP.0S10L', EventTime=datetime.datetime(2024, 1, 2, 23, 41, 0, 1000), Status='Good', Value=2314.983642578125)\n",
      "2025-01-27 20:03:59,673 - CheckValueRanges - INFO - Out of range row for TagName 'R0:Z24WVP.0S10L': Row(TagName='R0:Z24WVP.0S10L', EventTime=datetime.datetime(2024, 1, 2, 23, 43, 0, 1000), Status='Good', Value=2295.330322265625)\n",
      "INFO:CheckValueRanges:Out of range row for TagName 'R0:Z24WVP.0S10L': Row(TagName='R0:Z24WVP.0S10L', EventTime=datetime.datetime(2024, 1, 2, 23, 43, 0, 1000), Status='Good', Value=2295.330322265625)\n",
      "2025-01-27 20:03:59,674 - CheckValueRanges - INFO - Out of range row for TagName 'R0:Z24WVP.0S10L': Row(TagName='R0:Z24WVP.0S10L', EventTime=datetime.datetime(2024, 1, 2, 23, 47, 0, 1000), Status='Good', Value=2258.5576171875)\n",
      "INFO:CheckValueRanges:Out of range row for TagName 'R0:Z24WVP.0S10L': Row(TagName='R0:Z24WVP.0S10L', EventTime=datetime.datetime(2024, 1, 2, 23, 47, 0, 1000), Status='Good', Value=2258.5576171875)\n",
      "2025-01-27 20:03:59,675 - CheckValueRanges - INFO - Out of range row for TagName 'R0:Z24WVP.0S10L': Row(TagName='R0:Z24WVP.0S10L', EventTime=datetime.datetime(2024, 1, 2, 23, 49, 0, 1000), Status='Good', Value=2216.44677734375)\n",
      "INFO:CheckValueRanges:Out of range row for TagName 'R0:Z24WVP.0S10L': Row(TagName='R0:Z24WVP.0S10L', EventTime=datetime.datetime(2024, 1, 2, 23, 49, 0, 1000), Status='Good', Value=2216.44677734375)\n",
      "2025-01-27 20:03:59,675 - CheckValueRanges - INFO - Out of range row for TagName 'R0:Z24WVP.0S10L': Row(TagName='R0:Z24WVP.0S10L', EventTime=datetime.datetime(2024, 1, 2, 23, 53, 0, 1000), Status='Good', Value=2184.2470703125)\n",
      "INFO:CheckValueRanges:Out of range row for TagName 'R0:Z24WVP.0S10L': Row(TagName='R0:Z24WVP.0S10L', EventTime=datetime.datetime(2024, 1, 2, 23, 53, 0, 1000), Status='Good', Value=2184.2470703125)\n",
      "2025-01-27 20:03:59,676 - CheckValueRanges - INFO - Out of range row for TagName 'R0:Z24WVP.0S10L': Row(TagName='R0:Z24WVP.0S10L', EventTime=datetime.datetime(2024, 1, 2, 23, 55, 0, 1000), Status='Good', Value=2177.20751953125)\n",
      "INFO:CheckValueRanges:Out of range row for TagName 'R0:Z24WVP.0S10L': Row(TagName='R0:Z24WVP.0S10L', EventTime=datetime.datetime(2024, 1, 2, 23, 55, 0, 1000), Status='Good', Value=2177.20751953125)\n",
      "2025-01-27 20:03:59,676 - CheckValueRanges - INFO - Out of range row for TagName 'R0:Z24WVP.0S10L': Row(TagName='R0:Z24WVP.0S10L', EventTime=datetime.datetime(2024, 1, 2, 23, 59, 0, 1000), Status='Good', Value=2210.57763671875)\n",
      "INFO:CheckValueRanges:Out of range row for TagName 'R0:Z24WVP.0S10L': Row(TagName='R0:Z24WVP.0S10L', EventTime=datetime.datetime(2024, 1, 2, 23, 59, 0, 1000), Status='Good', Value=2210.57763671875)\n"
     ]
    }
   ],
   "source": [
    "from rtdip_sdk.pipelines.data_quality.data_manipulation.spark.out_of_range_value_filter import OutOfRangeValueFilter\n",
    "df = OutOfRangeValueFilter(df, {\n",
    "    \"R0:Z24WVP.0S10L\": {\"min\": -4, \"max\": 4, \"inclusive_bounds\": True},\n",
    "}).filter()"
   ]
  },
  {
   "cell_type": "code",
   "execution_count": 89,
   "metadata": {},
   "outputs": [],
   "source": [
    "# TODO: gaussian smoothing"
   ]
  },
  {
   "cell_type": "markdown",
   "metadata": {},
   "source": [
    "# Monitoring"
   ]
  },
  {
   "cell_type": "code",
   "execution_count": 90,
   "metadata": {},
   "outputs": [
    {
     "name": "stderr",
     "output_type": "stream",
     "text": [
      "2025-01-27 20:04:06,973 - CheckValueRanges - INFO - Found 55 rows in 'Value' column for TagName 'TT33-01M9Z2L9:P20.AIRO5N' out of range.\n",
      "INFO:CheckValueRanges:Found 55 rows in 'Value' column for TagName 'TT33-01M9Z2L9:P20.AIRO5N' out of range.\n",
      "2025-01-27 20:04:07,932 - CheckValueRanges - INFO - Out of range row for TagName 'TT33-01M9Z2L9:P20.AIRO5N': Row(TagName='TT33-01M9Z2L9:P20.AIRO5N', EventTime=datetime.datetime(2024, 1, 2, 14, 31, 10, 337000), Status='Good', Value=19411.0)\n",
      "INFO:CheckValueRanges:Out of range row for TagName 'TT33-01M9Z2L9:P20.AIRO5N': Row(TagName='TT33-01M9Z2L9:P20.AIRO5N', EventTime=datetime.datetime(2024, 1, 2, 14, 31, 10, 337000), Status='Good', Value=19411.0)\n",
      "2025-01-27 20:04:07,932 - CheckValueRanges - INFO - Out of range row for TagName 'TT33-01M9Z2L9:P20.AIRO5N': Row(TagName='TT33-01M9Z2L9:P20.AIRO5N', EventTime=datetime.datetime(2024, 1, 2, 2, 58, 10), Status='Good', Value=19398.451171875)\n",
      "INFO:CheckValueRanges:Out of range row for TagName 'TT33-01M9Z2L9:P20.AIRO5N': Row(TagName='TT33-01M9Z2L9:P20.AIRO5N', EventTime=datetime.datetime(2024, 1, 2, 2, 58, 10), Status='Good', Value=19398.451171875)\n",
      "2025-01-27 20:04:07,933 - CheckValueRanges - INFO - Out of range row for TagName 'TT33-01M9Z2L9:P20.AIRO5N': Row(TagName='TT33-01M9Z2L9:P20.AIRO5N', EventTime=datetime.datetime(2024, 1, 2, 0, 42, 10), Status='Good', Value=19394.15234375)\n",
      "INFO:CheckValueRanges:Out of range row for TagName 'TT33-01M9Z2L9:P20.AIRO5N': Row(TagName='TT33-01M9Z2L9:P20.AIRO5N', EventTime=datetime.datetime(2024, 1, 2, 0, 42, 10), Status='Good', Value=19394.15234375)\n",
      "2025-01-27 20:04:07,933 - CheckValueRanges - INFO - Out of range row for TagName 'TT33-01M9Z2L9:P20.AIRO5N': Row(TagName='TT33-01M9Z2L9:P20.AIRO5N', EventTime=datetime.datetime(2024, 1, 2, 22, 17, 10, 231000), Status='Good', Value=19378.99609375)\n",
      "INFO:CheckValueRanges:Out of range row for TagName 'TT33-01M9Z2L9:P20.AIRO5N': Row(TagName='TT33-01M9Z2L9:P20.AIRO5N', EventTime=datetime.datetime(2024, 1, 2, 22, 17, 10, 231000), Status='Good', Value=19378.99609375)\n",
      "2025-01-27 20:04:07,934 - CheckValueRanges - INFO - Out of range row for TagName 'TT33-01M9Z2L9:P20.AIRO5N': Row(TagName='TT33-01M9Z2L9:P20.AIRO5N', EventTime=datetime.datetime(2024, 1, 2, 8, 22, 10, 178000), Status='Good', Value=19434.220703125)\n",
      "INFO:CheckValueRanges:Out of range row for TagName 'TT33-01M9Z2L9:P20.AIRO5N': Row(TagName='TT33-01M9Z2L9:P20.AIRO5N', EventTime=datetime.datetime(2024, 1, 2, 8, 22, 10, 178000), Status='Good', Value=19434.220703125)\n",
      "2025-01-27 20:04:07,934 - CheckValueRanges - INFO - Out of range row for TagName 'TT33-01M9Z2L9:P20.AIRO5N': Row(TagName='TT33-01M9Z2L9:P20.AIRO5N', EventTime=datetime.datetime(2024, 1, 2, 3, 50, 10, 178000), Status='Good', Value=19407.236328125)\n",
      "INFO:CheckValueRanges:Out of range row for TagName 'TT33-01M9Z2L9:P20.AIRO5N': Row(TagName='TT33-01M9Z2L9:P20.AIRO5N', EventTime=datetime.datetime(2024, 1, 2, 3, 50, 10, 178000), Status='Good', Value=19407.236328125)\n",
      "2025-01-27 20:04:07,935 - CheckValueRanges - INFO - Out of range row for TagName 'TT33-01M9Z2L9:P20.AIRO5N': Row(TagName='TT33-01M9Z2L9:P20.AIRO5N', EventTime=datetime.datetime(2024, 1, 2, 10, 38, 10, 178000), Status='Good', Value=19438.884765625)\n",
      "INFO:CheckValueRanges:Out of range row for TagName 'TT33-01M9Z2L9:P20.AIRO5N': Row(TagName='TT33-01M9Z2L9:P20.AIRO5N', EventTime=datetime.datetime(2024, 1, 2, 10, 38, 10, 178000), Status='Good', Value=19438.884765625)\n",
      "2025-01-27 20:04:07,935 - CheckValueRanges - INFO - Out of range row for TagName 'TT33-01M9Z2L9:P20.AIRO5N': Row(TagName='TT33-01M9Z2L9:P20.AIRO5N', EventTime=datetime.datetime(2024, 1, 3, 0, 15, 10, 357000), Status='Good', Value=19377.859375)\n",
      "INFO:CheckValueRanges:Out of range row for TagName 'TT33-01M9Z2L9:P20.AIRO5N': Row(TagName='TT33-01M9Z2L9:P20.AIRO5N', EventTime=datetime.datetime(2024, 1, 3, 0, 15, 10, 357000), Status='Good', Value=19377.859375)\n",
      "2025-01-27 20:04:07,935 - CheckValueRanges - INFO - Out of range row for TagName 'TT33-01M9Z2L9:P20.AIRO5N': Row(TagName='TT33-01M9Z2L9:P20.AIRO5N', EventTime=datetime.datetime(2024, 1, 2, 14, 36, 10, 178000), Status='Good', Value=19402.197265625)\n",
      "INFO:CheckValueRanges:Out of range row for TagName 'TT33-01M9Z2L9:P20.AIRO5N': Row(TagName='TT33-01M9Z2L9:P20.AIRO5N', EventTime=datetime.datetime(2024, 1, 2, 14, 36, 10, 178000), Status='Good', Value=19402.197265625)\n",
      "2025-01-27 20:04:07,936 - CheckValueRanges - INFO - Out of range row for TagName 'TT33-01M9Z2L9:P20.AIRO5N': Row(TagName='TT33-01M9Z2L9:P20.AIRO5N', EventTime=datetime.datetime(2024, 1, 2, 8, 56, 10, 178000), Status='Good', Value=19436.34375)\n",
      "INFO:CheckValueRanges:Out of range row for TagName 'TT33-01M9Z2L9:P20.AIRO5N': Row(TagName='TT33-01M9Z2L9:P20.AIRO5N', EventTime=datetime.datetime(2024, 1, 2, 8, 56, 10, 178000), Status='Good', Value=19436.34375)\n",
      "2025-01-27 20:04:07,937 - CheckValueRanges - INFO - Out of range row for TagName 'TT33-01M9Z2L9:P20.AIRO5N': Row(TagName='TT33-01M9Z2L9:P20.AIRO5N', EventTime=datetime.datetime(2024, 1, 2, 21, 9, 10, 231000), Status='Good', Value=19378.216796875)\n",
      "INFO:CheckValueRanges:Out of range row for TagName 'TT33-01M9Z2L9:P20.AIRO5N': Row(TagName='TT33-01M9Z2L9:P20.AIRO5N', EventTime=datetime.datetime(2024, 1, 2, 21, 9, 10, 231000), Status='Good', Value=19378.216796875)\n",
      "2025-01-27 20:04:07,937 - CheckValueRanges - INFO - Out of range row for TagName 'TT33-01M9Z2L9:P20.AIRO5N': Row(TagName='TT33-01M9Z2L9:P20.AIRO5N', EventTime=datetime.datetime(2024, 1, 2, 0, 8, 10), Status='Good', Value=19395.0)\n",
      "INFO:CheckValueRanges:Out of range row for TagName 'TT33-01M9Z2L9:P20.AIRO5N': Row(TagName='TT33-01M9Z2L9:P20.AIRO5N', EventTime=datetime.datetime(2024, 1, 2, 0, 8, 10), Status='Good', Value=19395.0)\n",
      "2025-01-27 20:04:07,938 - CheckValueRanges - INFO - Out of range row for TagName 'TT33-01M9Z2L9:P20.AIRO5N': Row(TagName='TT33-01M9Z2L9:P20.AIRO5N', EventTime=datetime.datetime(2024, 1, 2, 16, 18, 10, 346000), Status='Good', Value=19379.583984375)\n",
      "INFO:CheckValueRanges:Out of range row for TagName 'TT33-01M9Z2L9:P20.AIRO5N': Row(TagName='TT33-01M9Z2L9:P20.AIRO5N', EventTime=datetime.datetime(2024, 1, 2, 16, 18, 10, 346000), Status='Good', Value=19379.583984375)\n",
      "2025-01-27 20:04:07,938 - CheckValueRanges - INFO - Out of range row for TagName 'TT33-01M9Z2L9:P20.AIRO5N': Row(TagName='TT33-01M9Z2L9:P20.AIRO5N', EventTime=datetime.datetime(2024, 1, 2, 18, 0, 10, 346000), Status='Good', Value=19376.65625)\n",
      "INFO:CheckValueRanges:Out of range row for TagName 'TT33-01M9Z2L9:P20.AIRO5N': Row(TagName='TT33-01M9Z2L9:P20.AIRO5N', EventTime=datetime.datetime(2024, 1, 2, 18, 0, 10, 346000), Status='Good', Value=19376.65625)\n",
      "2025-01-27 20:04:07,939 - CheckValueRanges - INFO - Out of range row for TagName 'TT33-01M9Z2L9:P20.AIRO5N': Row(TagName='TT33-01M9Z2L9:P20.AIRO5N', EventTime=datetime.datetime(2024, 1, 2, 19, 47, 10, 494000), Status='Good', Value=19371.669921875)\n",
      "INFO:CheckValueRanges:Out of range row for TagName 'TT33-01M9Z2L9:P20.AIRO5N': Row(TagName='TT33-01M9Z2L9:P20.AIRO5N', EventTime=datetime.datetime(2024, 1, 2, 19, 47, 10, 494000), Status='Good', Value=19371.669921875)\n",
      "2025-01-27 20:04:07,939 - CheckValueRanges - INFO - Out of range row for TagName 'TT33-01M9Z2L9:P20.AIRO5N': Row(TagName='TT33-01M9Z2L9:P20.AIRO5N', EventTime=datetime.datetime(2024, 1, 2, 11, 12, 10, 178000), Status='Good', Value=19438.158203125)\n",
      "INFO:CheckValueRanges:Out of range row for TagName 'TT33-01M9Z2L9:P20.AIRO5N': Row(TagName='TT33-01M9Z2L9:P20.AIRO5N', EventTime=datetime.datetime(2024, 1, 2, 11, 12, 10, 178000), Status='Good', Value=19438.158203125)\n",
      "2025-01-27 20:04:07,939 - CheckValueRanges - INFO - Out of range row for TagName 'TT33-01M9Z2L9:P20.AIRO5N': Row(TagName='TT33-01M9Z2L9:P20.AIRO5N', EventTime=datetime.datetime(2024, 1, 2, 2, 24, 10), Status='Good', Value=19396.40234375)\n",
      "INFO:CheckValueRanges:Out of range row for TagName 'TT33-01M9Z2L9:P20.AIRO5N': Row(TagName='TT33-01M9Z2L9:P20.AIRO5N', EventTime=datetime.datetime(2024, 1, 2, 2, 24, 10), Status='Good', Value=19396.40234375)\n",
      "2025-01-27 20:04:07,940 - CheckValueRanges - INFO - Out of range row for TagName 'TT33-01M9Z2L9:P20.AIRO5N': Row(TagName='TT33-01M9Z2L9:P20.AIRO5N', EventTime=datetime.datetime(2024, 1, 2, 20, 21, 10, 494000), Status='Good', Value=19375.90625)\n",
      "INFO:CheckValueRanges:Out of range row for TagName 'TT33-01M9Z2L9:P20.AIRO5N': Row(TagName='TT33-01M9Z2L9:P20.AIRO5N', EventTime=datetime.datetime(2024, 1, 2, 20, 21, 10, 494000), Status='Good', Value=19375.90625)\n",
      "2025-01-27 20:04:07,941 - CheckValueRanges - INFO - Out of range row for TagName 'TT33-01M9Z2L9:P20.AIRO5N': Row(TagName='TT33-01M9Z2L9:P20.AIRO5N', EventTime=datetime.datetime(2024, 1, 2, 1, 16, 10), Status='Good', Value=19394.1640625)\n",
      "INFO:CheckValueRanges:Out of range row for TagName 'TT33-01M9Z2L9:P20.AIRO5N': Row(TagName='TT33-01M9Z2L9:P20.AIRO5N', EventTime=datetime.datetime(2024, 1, 2, 1, 16, 10), Status='Good', Value=19394.1640625)\n",
      "2025-01-27 20:04:07,941 - CheckValueRanges - INFO - Out of range row for TagName 'TT33-01M9Z2L9:P20.AIRO5N': Row(TagName='TT33-01M9Z2L9:P20.AIRO5N', EventTime=datetime.datetime(2024, 1, 2, 11, 46, 10, 178000), Status='Good', Value=19436.49609375)\n",
      "INFO:CheckValueRanges:Out of range row for TagName 'TT33-01M9Z2L9:P20.AIRO5N': Row(TagName='TT33-01M9Z2L9:P20.AIRO5N', EventTime=datetime.datetime(2024, 1, 2, 11, 46, 10, 178000), Status='Good', Value=19436.49609375)\n",
      "2025-01-27 20:04:07,942 - CheckValueRanges - INFO - Out of range row for TagName 'TT33-01M9Z2L9:P20.AIRO5N': Row(TagName='TT33-01M9Z2L9:P20.AIRO5N', EventTime=datetime.datetime(2024, 1, 2, 20, 35, 10, 231000), Status='Good', Value=19377.287109375)\n",
      "INFO:CheckValueRanges:Out of range row for TagName 'TT33-01M9Z2L9:P20.AIRO5N': Row(TagName='TT33-01M9Z2L9:P20.AIRO5N', EventTime=datetime.datetime(2024, 1, 2, 20, 35, 10, 231000), Status='Good', Value=19377.287109375)\n",
      "2025-01-27 20:04:07,943 - CheckValueRanges - INFO - Out of range row for TagName 'TT33-01M9Z2L9:P20.AIRO5N': Row(TagName='TT33-01M9Z2L9:P20.AIRO5N', EventTime=datetime.datetime(2024, 1, 2, 12, 20, 10, 178000), Status='Good', Value=19433.80859375)\n",
      "INFO:CheckValueRanges:Out of range row for TagName 'TT33-01M9Z2L9:P20.AIRO5N': Row(TagName='TT33-01M9Z2L9:P20.AIRO5N', EventTime=datetime.datetime(2024, 1, 2, 12, 20, 10, 178000), Status='Good', Value=19433.80859375)\n",
      "2025-01-27 20:04:07,943 - CheckValueRanges - INFO - Out of range row for TagName 'TT33-01M9Z2L9:P20.AIRO5N': Row(TagName='TT33-01M9Z2L9:P20.AIRO5N', EventTime=datetime.datetime(2024, 1, 2, 15, 10, 10, 346000), Status='Good', Value=19388.0)\n",
      "INFO:CheckValueRanges:Out of range row for TagName 'TT33-01M9Z2L9:P20.AIRO5N': Row(TagName='TT33-01M9Z2L9:P20.AIRO5N', EventTime=datetime.datetime(2024, 1, 2, 15, 10, 10, 346000), Status='Good', Value=19388.0)\n",
      "2025-01-27 20:04:07,944 - CheckValueRanges - INFO - Out of range row for TagName 'TT33-01M9Z2L9:P20.AIRO5N': Row(TagName='TT33-01M9Z2L9:P20.AIRO5N', EventTime=datetime.datetime(2024, 1, 2, 7, 48, 10, 178000), Status='Good', Value=19431.61328125)\n",
      "INFO:CheckValueRanges:Out of range row for TagName 'TT33-01M9Z2L9:P20.AIRO5N': Row(TagName='TT33-01M9Z2L9:P20.AIRO5N', EventTime=datetime.datetime(2024, 1, 2, 7, 48, 10, 178000), Status='Good', Value=19431.61328125)\n",
      "2025-01-27 20:04:07,944 - CheckValueRanges - INFO - Out of range row for TagName 'TT33-01M9Z2L9:P20.AIRO5N': Row(TagName='TT33-01M9Z2L9:P20.AIRO5N', EventTime=datetime.datetime(2024, 1, 2, 6, 40, 10, 178000), Status='Good', Value=19425.291015625)\n",
      "INFO:CheckValueRanges:Out of range row for TagName 'TT33-01M9Z2L9:P20.AIRO5N': Row(TagName='TT33-01M9Z2L9:P20.AIRO5N', EventTime=datetime.datetime(2024, 1, 2, 6, 40, 10, 178000), Status='Good', Value=19425.291015625)\n",
      "2025-01-27 20:04:07,944 - CheckValueRanges - INFO - Out of range row for TagName 'TT33-01M9Z2L9:P20.AIRO5N': Row(TagName='TT33-01M9Z2L9:P20.AIRO5N', EventTime=datetime.datetime(2024, 1, 2, 16, 52, 10, 346000), Status='Good', Value=19378.54296875)\n",
      "INFO:CheckValueRanges:Out of range row for TagName 'TT33-01M9Z2L9:P20.AIRO5N': Row(TagName='TT33-01M9Z2L9:P20.AIRO5N', EventTime=datetime.datetime(2024, 1, 2, 16, 52, 10, 346000), Status='Good', Value=19378.54296875)\n",
      "2025-01-27 20:04:07,945 - CheckValueRanges - INFO - Out of range row for TagName 'TT33-01M9Z2L9:P20.AIRO5N': Row(TagName='TT33-01M9Z2L9:P20.AIRO5N', EventTime=datetime.datetime(2024, 1, 2, 4, 24, 10, 178000), Status='Good', Value=19410.74609375)\n",
      "INFO:CheckValueRanges:Out of range row for TagName 'TT33-01M9Z2L9:P20.AIRO5N': Row(TagName='TT33-01M9Z2L9:P20.AIRO5N', EventTime=datetime.datetime(2024, 1, 2, 4, 24, 10, 178000), Status='Good', Value=19410.74609375)\n",
      "2025-01-27 20:04:07,947 - CheckValueRanges - INFO - Out of range row for TagName 'TT33-01M9Z2L9:P20.AIRO5N': Row(TagName='TT33-01M9Z2L9:P20.AIRO5N', EventTime=datetime.datetime(2024, 1, 2, 6, 6, 10, 178000), Status='Good', Value=19421.7578125)\n",
      "INFO:CheckValueRanges:Out of range row for TagName 'TT33-01M9Z2L9:P20.AIRO5N': Row(TagName='TT33-01M9Z2L9:P20.AIRO5N', EventTime=datetime.datetime(2024, 1, 2, 6, 6, 10, 178000), Status='Good', Value=19421.7578125)\n",
      "2025-01-27 20:04:07,947 - CheckValueRanges - INFO - Out of range row for TagName 'TT33-01M9Z2L9:P20.AIRO5N': Row(TagName='TT33-01M9Z2L9:P20.AIRO5N', EventTime=datetime.datetime(2024, 1, 2, 21, 59, 10, 357000), Status='Good', Value=19379.0)\n",
      "INFO:CheckValueRanges:Out of range row for TagName 'TT33-01M9Z2L9:P20.AIRO5N': Row(TagName='TT33-01M9Z2L9:P20.AIRO5N', EventTime=datetime.datetime(2024, 1, 2, 21, 59, 10, 357000), Status='Good', Value=19379.0)\n",
      "2025-01-27 20:04:07,947 - CheckValueRanges - INFO - Out of range row for TagName 'TT33-01M9Z2L9:P20.AIRO5N': Row(TagName='TT33-01M9Z2L9:P20.AIRO5N', EventTime=datetime.datetime(2024, 1, 2, 4, 58, 10, 178000), Status='Good', Value=19414.39453125)\n",
      "INFO:CheckValueRanges:Out of range row for TagName 'TT33-01M9Z2L9:P20.AIRO5N': Row(TagName='TT33-01M9Z2L9:P20.AIRO5N', EventTime=datetime.datetime(2024, 1, 2, 4, 58, 10, 178000), Status='Good', Value=19414.39453125)\n",
      "2025-01-27 20:04:07,948 - CheckValueRanges - INFO - Out of range row for TagName 'TT33-01M9Z2L9:P20.AIRO5N': Row(TagName='TT33-01M9Z2L9:P20.AIRO5N', EventTime=datetime.datetime(2024, 1, 2, 3, 32, 10), Status='Good', Value=19403.958984375)\n",
      "INFO:CheckValueRanges:Out of range row for TagName 'TT33-01M9Z2L9:P20.AIRO5N': Row(TagName='TT33-01M9Z2L9:P20.AIRO5N', EventTime=datetime.datetime(2024, 1, 2, 3, 32, 10), Status='Good', Value=19403.958984375)\n",
      "2025-01-27 20:04:07,948 - CheckValueRanges - INFO - Out of range row for TagName 'TT33-01M9Z2L9:P20.AIRO5N': Row(TagName='TT33-01M9Z2L9:P20.AIRO5N', EventTime=datetime.datetime(2024, 1, 2, 3, 16, 10, 178000), Status='Good', Value=19401.0)\n",
      "INFO:CheckValueRanges:Out of range row for TagName 'TT33-01M9Z2L9:P20.AIRO5N': Row(TagName='TT33-01M9Z2L9:P20.AIRO5N', EventTime=datetime.datetime(2024, 1, 2, 3, 16, 10, 178000), Status='Good', Value=19401.0)\n",
      "2025-01-27 20:04:07,949 - CheckValueRanges - INFO - Out of range row for TagName 'TT33-01M9Z2L9:P20.AIRO5N': Row(TagName='TT33-01M9Z2L9:P20.AIRO5N', EventTime=datetime.datetime(2024, 1, 2, 19, 17, 10, 488000), Status='Good', Value=19369.6875)\n",
      "INFO:CheckValueRanges:Out of range row for TagName 'TT33-01M9Z2L9:P20.AIRO5N': Row(TagName='TT33-01M9Z2L9:P20.AIRO5N', EventTime=datetime.datetime(2024, 1, 2, 19, 17, 10, 488000), Status='Good', Value=19369.6875)\n",
      "2025-01-27 20:04:07,949 - CheckValueRanges - INFO - Out of range row for TagName 'TT33-01M9Z2L9:P20.AIRO5N': Row(TagName='TT33-01M9Z2L9:P20.AIRO5N', EventTime=datetime.datetime(2024, 1, 2, 19, 13, 10, 494000), Status='Good', Value=19369.0)\n",
      "INFO:CheckValueRanges:Out of range row for TagName 'TT33-01M9Z2L9:P20.AIRO5N': Row(TagName='TT33-01M9Z2L9:P20.AIRO5N', EventTime=datetime.datetime(2024, 1, 2, 19, 13, 10, 494000), Status='Good', Value=19369.0)\n",
      "2025-01-27 20:04:07,950 - CheckValueRanges - INFO - Out of range row for TagName 'TT33-01M9Z2L9:P20.AIRO5N': Row(TagName='TT33-01M9Z2L9:P20.AIRO5N', EventTime=datetime.datetime(2024, 1, 2, 23, 41, 10, 357000), Status='Good', Value=19378.25390625)\n",
      "INFO:CheckValueRanges:Out of range row for TagName 'TT33-01M9Z2L9:P20.AIRO5N': Row(TagName='TT33-01M9Z2L9:P20.AIRO5N', EventTime=datetime.datetime(2024, 1, 2, 23, 41, 10, 357000), Status='Good', Value=19378.25390625)\n",
      "2025-01-27 20:04:07,950 - CheckValueRanges - INFO - Out of range row for TagName 'TT33-01M9Z2L9:P20.AIRO5N': Row(TagName='TT33-01M9Z2L9:P20.AIRO5N', EventTime=datetime.datetime(2024, 1, 2, 17, 26, 10, 346000), Status='Good', Value=19377.701171875)\n",
      "INFO:CheckValueRanges:Out of range row for TagName 'TT33-01M9Z2L9:P20.AIRO5N': Row(TagName='TT33-01M9Z2L9:P20.AIRO5N', EventTime=datetime.datetime(2024, 1, 2, 17, 26, 10, 346000), Status='Good', Value=19377.701171875)\n",
      "2025-01-27 20:04:07,951 - CheckValueRanges - INFO - Out of range row for TagName 'TT33-01M9Z2L9:P20.AIRO5N': Row(TagName='TT33-01M9Z2L9:P20.AIRO5N', EventTime=datetime.datetime(2024, 1, 2, 18, 9, 10, 488000), Status='Good', Value=19375.0)\n",
      "INFO:CheckValueRanges:Out of range row for TagName 'TT33-01M9Z2L9:P20.AIRO5N': Row(TagName='TT33-01M9Z2L9:P20.AIRO5N', EventTime=datetime.datetime(2024, 1, 2, 18, 9, 10, 488000), Status='Good', Value=19375.0)\n",
      "2025-01-27 20:04:07,951 - CheckValueRanges - INFO - Out of range row for TagName 'TT33-01M9Z2L9:P20.AIRO5N': Row(TagName='TT33-01M9Z2L9:P20.AIRO5N', EventTime=datetime.datetime(2024, 1, 2, 23, 7, 10, 357000), Status='Good', Value=19378.552734375)\n",
      "INFO:CheckValueRanges:Out of range row for TagName 'TT33-01M9Z2L9:P20.AIRO5N': Row(TagName='TT33-01M9Z2L9:P20.AIRO5N', EventTime=datetime.datetime(2024, 1, 2, 23, 7, 10, 357000), Status='Good', Value=19378.552734375)\n",
      "2025-01-27 20:04:07,951 - CheckValueRanges - INFO - Out of range row for TagName 'TT33-01M9Z2L9:P20.AIRO5N': Row(TagName='TT33-01M9Z2L9:P20.AIRO5N', EventTime=datetime.datetime(2024, 1, 2, 12, 54, 10, 178000), Status='Good', Value=19430.00390625)\n",
      "INFO:CheckValueRanges:Out of range row for TagName 'TT33-01M9Z2L9:P20.AIRO5N': Row(TagName='TT33-01M9Z2L9:P20.AIRO5N', EventTime=datetime.datetime(2024, 1, 2, 12, 54, 10, 178000), Status='Good', Value=19430.00390625)\n",
      "2025-01-27 20:04:07,952 - CheckValueRanges - INFO - Out of range row for TagName 'TT33-01M9Z2L9:P20.AIRO5N': Row(TagName='TT33-01M9Z2L9:P20.AIRO5N', EventTime=datetime.datetime(2024, 1, 2, 15, 5, 10, 307000), Status='Good', Value=19394.0)\n",
      "INFO:CheckValueRanges:Out of range row for TagName 'TT33-01M9Z2L9:P20.AIRO5N': Row(TagName='TT33-01M9Z2L9:P20.AIRO5N', EventTime=datetime.datetime(2024, 1, 2, 15, 5, 10, 307000), Status='Good', Value=19394.0)\n",
      "2025-01-27 20:04:07,953 - CheckValueRanges - INFO - Out of range row for TagName 'TT33-01M9Z2L9:P20.AIRO5N': Row(TagName='TT33-01M9Z2L9:P20.AIRO5N', EventTime=datetime.datetime(2024, 1, 2, 15, 39, 10, 307000), Status='Good', Value=19383.90625)\n",
      "INFO:CheckValueRanges:Out of range row for TagName 'TT33-01M9Z2L9:P20.AIRO5N': Row(TagName='TT33-01M9Z2L9:P20.AIRO5N', EventTime=datetime.datetime(2024, 1, 2, 15, 39, 10, 307000), Status='Good', Value=19383.90625)\n",
      "2025-01-27 20:04:07,953 - CheckValueRanges - INFO - Out of range row for TagName 'TT33-01M9Z2L9:P20.AIRO5N': Row(TagName='TT33-01M9Z2L9:P20.AIRO5N', EventTime=datetime.datetime(2024, 1, 2, 15, 44, 10, 346000), Status='Good', Value=19381.236328125)\n",
      "INFO:CheckValueRanges:Out of range row for TagName 'TT33-01M9Z2L9:P20.AIRO5N': Row(TagName='TT33-01M9Z2L9:P20.AIRO5N', EventTime=datetime.datetime(2024, 1, 2, 15, 44, 10, 346000), Status='Good', Value=19381.236328125)\n",
      "2025-01-27 20:04:07,954 - CheckValueRanges - INFO - Out of range row for TagName 'TT33-01M9Z2L9:P20.AIRO5N': Row(TagName='TT33-01M9Z2L9:P20.AIRO5N', EventTime=datetime.datetime(2024, 1, 2, 18, 43, 10, 488000), Status='Good', Value=19370.2109375)\n",
      "INFO:CheckValueRanges:Out of range row for TagName 'TT33-01M9Z2L9:P20.AIRO5N': Row(TagName='TT33-01M9Z2L9:P20.AIRO5N', EventTime=datetime.datetime(2024, 1, 2, 18, 43, 10, 488000), Status='Good', Value=19370.2109375)\n",
      "2025-01-27 20:04:07,955 - CheckValueRanges - INFO - Out of range row for TagName 'TT33-01M9Z2L9:P20.AIRO5N': Row(TagName='TT33-01M9Z2L9:P20.AIRO5N', EventTime=datetime.datetime(2024, 1, 2, 13, 28, 10, 178000), Status='Good', Value=19424.994140625)\n",
      "INFO:CheckValueRanges:Out of range row for TagName 'TT33-01M9Z2L9:P20.AIRO5N': Row(TagName='TT33-01M9Z2L9:P20.AIRO5N', EventTime=datetime.datetime(2024, 1, 2, 13, 28, 10, 178000), Status='Good', Value=19424.994140625)\n",
      "2025-01-27 20:04:07,955 - CheckValueRanges - INFO - Out of range row for TagName 'TT33-01M9Z2L9:P20.AIRO5N': Row(TagName='TT33-01M9Z2L9:P20.AIRO5N', EventTime=datetime.datetime(2024, 1, 2, 1, 50, 10), Status='Good', Value=19394.943359375)\n",
      "INFO:CheckValueRanges:Out of range row for TagName 'TT33-01M9Z2L9:P20.AIRO5N': Row(TagName='TT33-01M9Z2L9:P20.AIRO5N', EventTime=datetime.datetime(2024, 1, 2, 1, 50, 10), Status='Good', Value=19394.943359375)\n",
      "2025-01-27 20:04:07,956 - CheckValueRanges - INFO - Out of range row for TagName 'TT33-01M9Z2L9:P20.AIRO5N': Row(TagName='TT33-01M9Z2L9:P20.AIRO5N', EventTime=datetime.datetime(2024, 1, 2, 23, 44, 10, 54000), Status='Good', Value=19378.0)\n",
      "INFO:CheckValueRanges:Out of range row for TagName 'TT33-01M9Z2L9:P20.AIRO5N': Row(TagName='TT33-01M9Z2L9:P20.AIRO5N', EventTime=datetime.datetime(2024, 1, 2, 23, 44, 10, 54000), Status='Good', Value=19378.0)\n",
      "2025-01-27 20:04:07,957 - CheckValueRanges - INFO - Out of range row for TagName 'TT33-01M9Z2L9:P20.AIRO5N': Row(TagName='TT33-01M9Z2L9:P20.AIRO5N', EventTime=datetime.datetime(2024, 1, 2, 21, 43, 10, 231000), Status='Good', Value=19378.763671875)\n",
      "INFO:CheckValueRanges:Out of range row for TagName 'TT33-01M9Z2L9:P20.AIRO5N': Row(TagName='TT33-01M9Z2L9:P20.AIRO5N', EventTime=datetime.datetime(2024, 1, 2, 21, 43, 10, 231000), Status='Good', Value=19378.763671875)\n",
      "2025-01-27 20:04:07,957 - CheckValueRanges - INFO - Out of range row for TagName 'TT33-01M9Z2L9:P20.AIRO5N': Row(TagName='TT33-01M9Z2L9:P20.AIRO5N', EventTime=datetime.datetime(2024, 1, 2, 7, 14, 10, 178000), Status='Good', Value=19428.60546875)\n",
      "INFO:CheckValueRanges:Out of range row for TagName 'TT33-01M9Z2L9:P20.AIRO5N': Row(TagName='TT33-01M9Z2L9:P20.AIRO5N', EventTime=datetime.datetime(2024, 1, 2, 7, 14, 10, 178000), Status='Good', Value=19428.60546875)\n",
      "2025-01-27 20:04:07,958 - CheckValueRanges - INFO - Out of range row for TagName 'TT33-01M9Z2L9:P20.AIRO5N': Row(TagName='TT33-01M9Z2L9:P20.AIRO5N', EventTime=datetime.datetime(2024, 1, 2, 20, 1, 10, 231000), Status='Good', Value=19374.0)\n",
      "INFO:CheckValueRanges:Out of range row for TagName 'TT33-01M9Z2L9:P20.AIRO5N': Row(TagName='TT33-01M9Z2L9:P20.AIRO5N', EventTime=datetime.datetime(2024, 1, 2, 20, 1, 10, 231000), Status='Good', Value=19374.0)\n",
      "2025-01-27 20:04:07,958 - CheckValueRanges - INFO - Out of range row for TagName 'TT33-01M9Z2L9:P20.AIRO5N': Row(TagName='TT33-01M9Z2L9:P20.AIRO5N', EventTime=datetime.datetime(2024, 1, 2, 14, 2, 10, 178000), Status='Good', Value=19418.689453125)\n",
      "INFO:CheckValueRanges:Out of range row for TagName 'TT33-01M9Z2L9:P20.AIRO5N': Row(TagName='TT33-01M9Z2L9:P20.AIRO5N', EventTime=datetime.datetime(2024, 1, 2, 14, 2, 10, 178000), Status='Good', Value=19418.689453125)\n",
      "2025-01-27 20:04:07,960 - CheckValueRanges - INFO - Out of range row for TagName 'TT33-01M9Z2L9:P20.AIRO5N': Row(TagName='TT33-01M9Z2L9:P20.AIRO5N', EventTime=datetime.datetime(2024, 1, 2, 18, 34, 10, 346000), Status='Good', Value=19372.572265625)\n",
      "INFO:CheckValueRanges:Out of range row for TagName 'TT33-01M9Z2L9:P20.AIRO5N': Row(TagName='TT33-01M9Z2L9:P20.AIRO5N', EventTime=datetime.datetime(2024, 1, 2, 18, 34, 10, 346000), Status='Good', Value=19372.572265625)\n",
      "2025-01-27 20:04:07,960 - CheckValueRanges - INFO - Out of range row for TagName 'TT33-01M9Z2L9:P20.AIRO5N': Row(TagName='TT33-01M9Z2L9:P20.AIRO5N', EventTime=datetime.datetime(2024, 1, 2, 9, 30, 10, 178000), Status='Good', Value=19437.88671875)\n",
      "INFO:CheckValueRanges:Out of range row for TagName 'TT33-01M9Z2L9:P20.AIRO5N': Row(TagName='TT33-01M9Z2L9:P20.AIRO5N', EventTime=datetime.datetime(2024, 1, 2, 9, 30, 10, 178000), Status='Good', Value=19437.88671875)\n",
      "2025-01-27 20:04:07,961 - CheckValueRanges - INFO - Out of range row for TagName 'TT33-01M9Z2L9:P20.AIRO5N': Row(TagName='TT33-01M9Z2L9:P20.AIRO5N', EventTime=datetime.datetime(2024, 1, 2, 22, 33, 10, 357000), Status='Good', Value=19378.82421875)\n",
      "INFO:CheckValueRanges:Out of range row for TagName 'TT33-01M9Z2L9:P20.AIRO5N': Row(TagName='TT33-01M9Z2L9:P20.AIRO5N', EventTime=datetime.datetime(2024, 1, 2, 22, 33, 10, 357000), Status='Good', Value=19378.82421875)\n",
      "2025-01-27 20:04:07,962 - CheckValueRanges - INFO - Out of range row for TagName 'TT33-01M9Z2L9:P20.AIRO5N': Row(TagName='TT33-01M9Z2L9:P20.AIRO5N', EventTime=datetime.datetime(2024, 1, 2, 5, 32, 10, 178000), Status='Good', Value=19418.095703125)\n",
      "INFO:CheckValueRanges:Out of range row for TagName 'TT33-01M9Z2L9:P20.AIRO5N': Row(TagName='TT33-01M9Z2L9:P20.AIRO5N', EventTime=datetime.datetime(2024, 1, 2, 5, 32, 10, 178000), Status='Good', Value=19418.095703125)\n",
      "2025-01-27 20:04:07,962 - CheckValueRanges - INFO - Out of range row for TagName 'TT33-01M9Z2L9:P20.AIRO5N': Row(TagName='TT33-01M9Z2L9:P20.AIRO5N', EventTime=datetime.datetime(2024, 1, 2, 10, 4, 10, 178000), Status='Good', Value=19438.765625)\n",
      "INFO:CheckValueRanges:Out of range row for TagName 'TT33-01M9Z2L9:P20.AIRO5N': Row(TagName='TT33-01M9Z2L9:P20.AIRO5N', EventTime=datetime.datetime(2024, 1, 2, 10, 4, 10, 178000), Status='Good', Value=19438.765625)\n"
     ]
    }
   ],
   "source": [
    "from rtdip_sdk.pipelines.data_quality.monitoring.spark.check_value_ranges import CheckValueRanges\n",
    "\n",
    "df = CheckValueRanges(df, {\n",
    "    \"TT33-01M9Z2L9:P20.AIRO5N\": {\"min\": -4, \"max\": 4, \"inclusive_bounds\": True},\n",
    "}).check()"
   ]
  },
  {
   "cell_type": "code",
   "execution_count": 91,
   "metadata": {},
   "outputs": [
    {
     "name": "stderr",
     "output_type": "stream",
     "text": [
      "2025-01-27 20:04:09,389 - FlatlineDetection - INFO - No flatlining detected.    \n",
      "INFO:FlatlineDetection:No flatlining detected.\n"
     ]
    },
    {
     "name": "stdout",
     "output_type": "stream",
     "text": [
      "Flatlined Rows:\n",
      "+-------+---------+------+-----+-------------------+-----------+\n",
      "|TagName|EventTime|Status|Value|Value_flatline_flag|Value_group|\n",
      "+-------+---------+------+-----+-------------------+-----------+\n",
      "+-------+---------+------+-----+-------------------+-----------+\n",
      "\n"
     ]
    }
   ],
   "source": [
    "from rtdip_sdk.pipelines.data_quality.monitoring.spark.flatline_detection import FlatlineDetection\n",
    "\n",
    "df = FlatlineDetection(df, [\"Value\"], tolerance_timespan=2).check()"
   ]
  },
  {
   "cell_type": "code",
   "execution_count": 92,
   "metadata": {},
   "outputs": [
    {
     "name": "stderr",
     "output_type": "stream",
     "text": [
      "25/01/27 20:04:09 WARN WindowExec: No Partition Defined for Window operation! Moving all data to a single partition, this can cause serious performance degradation.\n",
      "25/01/27 20:04:09 WARN WindowExec: No Partition Defined for Window operation! Moving all data to a single partition, this can cause serious performance degradation.\n",
      "25/01/27 20:04:09 WARN WindowExec: No Partition Defined for Window operation! Moving all data to a single partition, this can cause serious performance degradation.\n",
      "25/01/27 20:04:10 WARN WindowExec: No Partition Defined for Window operation! Moving all data to a single partition, this can cause serious performance degradation.\n",
      "25/01/27 20:04:10 WARN WindowExec: No Partition Defined for Window operation! Moving all data to a single partition, this can cause serious performance degradation.\n",
      "25/01/27 20:04:10 WARN WindowExec: No Partition Defined for Window operation! Moving all data to a single partition, this can cause serious performance degradation.\n",
      "25/01/27 20:04:10 WARN WindowExec: No Partition Defined for Window operation! Moving all data to a single partition, this can cause serious performance degradation.\n",
      "25/01/27 20:04:10 WARN WindowExec: No Partition Defined for Window operation! Moving all data to a single partition, this can cause serious performance degradation.\n",
      "25/01/27 20:04:10 WARN WindowExec: No Partition Defined for Window operation! Moving all data to a single partition, this can cause serious performance degradation.\n",
      "25/01/27 20:04:10 WARN WindowExec: No Partition Defined for Window operation! Moving all data to a single partition, this can cause serious performance degradation.\n",
      "25/01/27 20:04:10 WARN WindowExec: No Partition Defined for Window operation! Moving all data to a single partition, this can cause serious performance degradation.\n",
      "25/01/27 20:04:10 WARN WindowExec: No Partition Defined for Window operation! Moving all data to a single partition, this can cause serious performance degradation.\n",
      "25/01/27 20:04:10 WARN WindowExec: No Partition Defined for Window operation! Moving all data to a single partition, this can cause serious performance degradation.\n",
      "25/01/27 20:04:10 WARN WindowExec: No Partition Defined for Window operation! Moving all data to a single partition, this can cause serious performance degradation.\n",
      "25/01/27 20:04:10 WARN WindowExec: No Partition Defined for Window operation! Moving all data to a single partition, this can cause serious performance degradation.\n",
      "25/01/27 20:04:10 WARN WindowExec: No Partition Defined for Window operation! Moving all data to a single partition, this can cause serious performance degradation.\n",
      "25/01/27 20:04:10 WARN WindowExec: No Partition Defined for Window operation! Moving all data to a single partition, this can cause serious performance degradation.\n",
      "25/01/27 20:04:10 WARN WindowExec: No Partition Defined for Window operation! Moving all data to a single partition, this can cause serious performance degradation.\n",
      "25/01/27 20:04:10 WARN WindowExec: No Partition Defined for Window operation! Moving all data to a single partition, this can cause serious performance degradation.\n",
      "25/01/27 20:04:10 WARN WindowExec: No Partition Defined for Window operation! Moving all data to a single partition, this can cause serious performance degradation.\n",
      "25/01/27 20:04:10 WARN WindowExec: No Partition Defined for Window operation! Moving all data to a single partition, this can cause serious performance degradation.\n"
     ]
    }
   ],
   "source": [
    "from rtdip_sdk.pipelines.data_quality.monitoring.spark.identify_missing_data_interval import IdentifyMissingDataInterval\n",
    "\n",
    "# component uses \"EventTime\" column\n",
    "df = IdentifyMissingDataInterval(df, interval='100ms', tolerance='10ms').check()"
   ]
  },
  {
   "cell_type": "code",
   "execution_count": 93,
   "metadata": {},
   "outputs": [
    {
     "name": "stderr",
     "output_type": "stream",
     "text": [
      "                                                                                \r"
     ]
    }
   ],
   "source": [
    "from rtdip_sdk.pipelines.data_quality.monitoring.spark.identify_missing_data_pattern import IdentifyMissingDataPattern\n",
    "\n",
    "# component uses \"EventTime\" column\n",
    "df = IdentifyMissingDataPattern(df, [{'second': 0}, {'second': 13}, {'second': 49}]).check()"
   ]
  },
  {
   "cell_type": "markdown",
   "metadata": {},
   "source": [
    "# Forecasts"
   ]
  },
  {
   "cell_type": "code",
   "execution_count": 94,
   "metadata": {},
   "outputs": [
    {
     "name": "stderr",
     "output_type": "stream",
     "text": [
      "                                                                                \r"
     ]
    },
    {
     "name": "stdout",
     "output_type": "stream",
     "text": [
      "100\n"
     ]
    },
    {
     "name": "stderr",
     "output_type": "stream",
     "text": [
      "/home/felipetrost/.conda/envs/rtdip-sdk/lib/python3.12/site-packages/statsmodels/tsa/base/tsa_model.py:473: ValueWarning: An unsupported index was provided. As a result, forecasts cannot be generated. To use the model for forecasting, use one of the supported classes of index.\n",
      "  self._init_dates(dates, freq)\n",
      "/home/felipetrost/.conda/envs/rtdip-sdk/lib/python3.12/site-packages/statsmodels/tsa/statespace/sarimax.py:866: UserWarning: Too few observations to estimate starting parameters for seasonal ARMA. All parameters except for variances will be set to zeros.\n",
      "  warn('Too few observations to estimate starting parameters%s.'\n",
      "/home/felipetrost/.conda/envs/rtdip-sdk/lib/python3.12/site-packages/statsmodels/base/model.py:607: ConvergenceWarning: Maximum Likelihood optimization failed to converge. Check mle_retvals\n",
      "  warnings.warn(\"Maximum Likelihood optimization failed to \"\n",
      "/home/felipetrost/.conda/envs/rtdip-sdk/lib/python3.12/site-packages/statsmodels/tsa/base/tsa_model.py:837: ValueWarning: No supported index is available. Prediction results will be given with an integer index beginning at `start`.\n",
      "  return get_prediction_index(\n",
      "/home/felipetrost/.conda/envs/rtdip-sdk/lib/python3.12/site-packages/statsmodels/tsa/base/tsa_model.py:837: FutureWarning: No supported index is available. In the next version, calling this method in a model without a supported index will result in an exception.\n",
      "  return get_prediction_index(\n",
      "                                                                                \r"
     ]
    },
    {
     "name": "stdout",
     "output_type": "stream",
     "text": [
      "+--------------------+--------------------+------+---------+\n",
      "|             TagName|           EventTime|Status|    Value|\n",
      "+--------------------+--------------------+------+---------+\n",
      "|_LT2EPL-9PM0.OROT...|2024-01-02 02:57:...|  Good|19400.285|\n",
      "|_LT2EPL-9PM0.OROT...|2024-01-02 02:07:...|  Good|19399.516|\n",
      "|_LT2EPL-9PM0.OROT...|2024-01-02 19:10:...|  Good| 19401.05|\n",
      "|_LT2EPL-9PM0.OROT...|2024-01-02 19:36:...|  Good|19409.979|\n",
      "|_LT2EPL-9PM0.OROT...|2024-01-02 06:55:...|  Good|19404.215|\n",
      "|_LT2EPL-9PM0.OROT...|2024-01-02 14:32:...|  Good|19413.582|\n",
      "|_LT2EPL-9PM0.OROT...|2024-01-02 18:14:...|  Good|19381.455|\n",
      "|_LT2EPL-9PM0.OROT...|2024-01-02 23:04:...|  Good|19393.973|\n",
      "|_LT2EPL-9PM0.OROT...|2024-01-02 16:21:...|  Good|19362.654|\n",
      "|_LT2EPL-9PM0.OROT...|2024-01-02 22:34:...|  Good|19412.322|\n",
      "|_LT2EPL-9PM0.OROT...|2024-01-02 12:04:...|  Good|19404.729|\n",
      "|_LT2EPL-9PM0.OROT...|2024-01-02 06:11:...|  Good|19403.898|\n",
      "|_LT2EPL-9PM0.OROT...|2024-01-02 05:57:...|  Good| 19403.67|\n",
      "|_LT2EPL-9PM0.OROT...|2024-01-02 20:58:...|  Good|19428.834|\n",
      "|_LT2EPL-9PM0.OROT...|2024-01-02 18:28:...|  Good|19386.164|\n",
      "|_LT2EPL-9PM0.OROT...|2024-01-02 14:28:...|  Good|19414.744|\n",
      "|_LT2EPL-9PM0.OROT...|2024-01-02 09:42:...|  Good|19398.896|\n",
      "|_LT2EPL-9PM0.OROT...|2024-01-02 09:22:...|  Good|19399.486|\n",
      "|_LT2EPL-9PM0.OROT...|2024-01-02 16:45:...|  Good|19362.197|\n",
      "|_LT2EPL-9PM0.OROT...|2024-01-02 05:23:...|  Good|  19403.0|\n",
      "+--------------------+--------------------+------+---------+\n",
      "only showing top 20 rows\n",
      "\n"
     ]
    }
   ],
   "source": [
    "from rtdip_sdk.pipelines.forecasting.spark.arima import ArimaPrediction\n",
    "\n",
    "count = 100\n",
    "base = df.limit(count)\n",
    "print(base.count())\n",
    "forecast = ArimaPrediction(\n",
    "    df,\n",
    "    value_name=\"Value\",\n",
    "    past_data_style=ArimaPrediction.InputStyle.SOURCE_BASED,\n",
    "    to_extend_name=\"-4O7LSSAM_3EA02:2GT7E02I_R_MP\",\n",
    "    number_of_data_points_to_analyze=count,\n",
    "    number_of_data_points_to_predict=int(count / 2),\n",
    "    order=(3, 0, 0),\n",
    "    seasonal_order=(3, 0, 0, 62),\n",
    "    timestamp_name=\"EventTime\",\n",
    "    source_name=\"TagName\",\n",
    "    status_name=\"Status\",\n",
    ").filter()\n",
    "forecast.show()"
   ]
  },
  {
   "cell_type": "code",
   "execution_count": 96,
   "metadata": {},
   "outputs": [
    {
     "name": "stderr",
     "output_type": "stream",
     "text": [
      "                                                                                \r"
     ]
    },
    {
     "name": "stdout",
     "output_type": "stream",
     "text": [
      "+--------------------+--------------------+------+---------+\n",
      "|             TagName|           EventTime|Status|    Value|\n",
      "+--------------------+--------------------+------+---------+\n",
      "|_LT2EPL-9PM0.OROT...|2024-01-02 02:57:...|  Good|19400.285|\n",
      "|_LT2EPL-9PM0.OROT...|2024-01-02 02:07:...|  Good|19399.516|\n",
      "|_LT2EPL-9PM0.OROT...|2024-01-02 19:10:...|  Good| 19401.05|\n",
      "|_LT2EPL-9PM0.OROT...|2024-01-02 19:36:...|  Good|19409.979|\n",
      "|_LT2EPL-9PM0.OROT...|2024-01-02 06:55:...|  Good|19404.215|\n",
      "|_LT2EPL-9PM0.OROT...|2024-01-02 14:32:...|  Good|19413.582|\n",
      "|_LT2EPL-9PM0.OROT...|2024-01-02 18:14:...|  Good|19381.455|\n",
      "|_LT2EPL-9PM0.OROT...|2024-01-02 23:04:...|  Good|19393.973|\n",
      "|_LT2EPL-9PM0.OROT...|2024-01-02 16:21:...|  Good|19362.654|\n",
      "|_LT2EPL-9PM0.OROT...|2024-01-02 22:34:...|  Good|19412.322|\n",
      "|_LT2EPL-9PM0.OROT...|2024-01-02 12:04:...|  Good|19404.729|\n",
      "|_LT2EPL-9PM0.OROT...|2024-01-02 06:11:...|  Good|19403.898|\n",
      "|_LT2EPL-9PM0.OROT...|2024-01-02 05:57:...|  Good| 19403.67|\n",
      "|_LT2EPL-9PM0.OROT...|2024-01-02 20:58:...|  Good|19428.834|\n",
      "|_LT2EPL-9PM0.OROT...|2024-01-02 18:28:...|  Good|19386.164|\n",
      "|_LT2EPL-9PM0.OROT...|2024-01-02 14:28:...|  Good|19414.744|\n",
      "|_LT2EPL-9PM0.OROT...|2024-01-02 09:42:...|  Good|19398.896|\n",
      "|_LT2EPL-9PM0.OROT...|2024-01-02 09:22:...|  Good|19399.486|\n",
      "|_LT2EPL-9PM0.OROT...|2024-01-02 16:45:...|  Good|19362.197|\n",
      "|_LT2EPL-9PM0.OROT...|2024-01-02 05:23:...|  Good|  19403.0|\n",
      "+--------------------+--------------------+------+---------+\n",
      "only showing top 20 rows\n",
      "\n"
     ]
    },
    {
     "name": "stderr",
     "output_type": "stream",
     "text": [
      "                                                                                \r"
     ]
    },
    {
     "ename": "ValueError",
     "evalue": "None not found in the DataFrame.",
     "output_type": "error",
     "traceback": [
      "\u001b[0;31m---------------------------------------------------------------------------\u001b[0m",
      "\u001b[0;31mValueError\u001b[0m                                Traceback (most recent call last)",
      "Cell \u001b[0;32mIn[96], line 6\u001b[0m\n\u001b[1;32m      4\u001b[0m base \u001b[38;5;241m=\u001b[39m df\u001b[38;5;241m.\u001b[39mlimit(count)\n\u001b[1;32m      5\u001b[0m base\u001b[38;5;241m.\u001b[39mshow()\n\u001b[0;32m----> 6\u001b[0m forecast \u001b[38;5;241m=\u001b[39m \u001b[43mArimaAutoPrediction\u001b[49m\u001b[43m(\u001b[49m\u001b[43mbase\u001b[49m\u001b[43m,\u001b[49m\u001b[43m \u001b[49m\u001b[43mto_extend_name\u001b[49m\u001b[38;5;241;43m=\u001b[39;49m\u001b[38;5;124;43m'\u001b[39;49m\u001b[38;5;124;43mValue\u001b[39;49m\u001b[38;5;124;43m'\u001b[39;49m\u001b[43m,\u001b[49m\u001b[43m \u001b[49m\u001b[43mnumber_of_data_points_to_analyze\u001b[49m\u001b[38;5;241;43m=\u001b[39;49m\u001b[38;5;28;43mint\u001b[39;49m\u001b[43m(\u001b[49m\u001b[43mcount\u001b[49m\u001b[38;5;241;43m/\u001b[39;49m\u001b[38;5;241;43m2\u001b[39;49m\u001b[43m)\u001b[49m\u001b[43m,\u001b[49m\u001b[43m \u001b[49m\u001b[43mnumber_of_data_points_to_predict\u001b[49m\u001b[38;5;241;43m=\u001b[39;49m\u001b[38;5;28;43mint\u001b[39;49m\u001b[43m(\u001b[49m\u001b[43mcount\u001b[49m\u001b[38;5;241;43m/\u001b[39;49m\u001b[38;5;241;43m2\u001b[39;49m\u001b[43m)\u001b[49m\u001b[43m,\u001b[49m\u001b[43m \u001b[49m\u001b[43mseasonal\u001b[49m\u001b[38;5;241;43m=\u001b[39;49m\u001b[38;5;28;43;01mTrue\u001b[39;49;00m\u001b[43m)\u001b[49m\n",
      "File \u001b[0;32m~/.conda/envs/rtdip-sdk/lib/python3.12/site-packages/rtdip_sdk/pipelines/forecasting/spark/auto_arima.py:107\u001b[0m, in \u001b[0;36mArimaAutoPrediction.__init__\u001b[0;34m(self, past_data, past_data_style, to_extend_name, value_name, timestamp_name, source_name, status_name, external_regressor_names, number_of_data_points_to_predict, number_of_data_points_to_analyze, seasonal, enforce_stationarity, enforce_invertibility, concentrate_scale, trend_offset, missing)\u001b[0m\n\u001b[1;32m     87\u001b[0m \u001b[38;5;28;01mdef\u001b[39;00m \u001b[38;5;21m__init__\u001b[39m(\n\u001b[1;32m     88\u001b[0m     \u001b[38;5;28mself\u001b[39m,\n\u001b[1;32m     89\u001b[0m     past_data: PySparkDataFrame,\n\u001b[0;32m   (...)\u001b[0m\n\u001b[1;32m    105\u001b[0m ) \u001b[38;5;241m-\u001b[39m\u001b[38;5;241m>\u001b[39m \u001b[38;5;28;01mNone\u001b[39;00m:\n\u001b[1;32m    106\u001b[0m     \u001b[38;5;66;03m# Convert source-based dataframe to column-based if necessary\u001b[39;00m\n\u001b[0;32m--> 107\u001b[0m     \u001b[38;5;28;43mself\u001b[39;49m\u001b[38;5;241;43m.\u001b[39;49m\u001b[43m_initialize_self_df\u001b[49m\u001b[43m(\u001b[49m\n\u001b[1;32m    108\u001b[0m \u001b[43m        \u001b[49m\u001b[43mpast_data\u001b[49m\u001b[43m,\u001b[49m\n\u001b[1;32m    109\u001b[0m \u001b[43m        \u001b[49m\u001b[43mpast_data_style\u001b[49m\u001b[43m,\u001b[49m\n\u001b[1;32m    110\u001b[0m \u001b[43m        \u001b[49m\u001b[43msource_name\u001b[49m\u001b[43m,\u001b[49m\n\u001b[1;32m    111\u001b[0m \u001b[43m        \u001b[49m\u001b[43mstatus_name\u001b[49m\u001b[43m,\u001b[49m\n\u001b[1;32m    112\u001b[0m \u001b[43m        \u001b[49m\u001b[43mtimestamp_name\u001b[49m\u001b[43m,\u001b[49m\n\u001b[1;32m    113\u001b[0m \u001b[43m        \u001b[49m\u001b[43mto_extend_name\u001b[49m\u001b[43m,\u001b[49m\n\u001b[1;32m    114\u001b[0m \u001b[43m        \u001b[49m\u001b[43mvalue_name\u001b[49m\u001b[43m,\u001b[49m\n\u001b[1;32m    115\u001b[0m \u001b[43m    \u001b[49m\u001b[43m)\u001b[49m\n\u001b[1;32m    116\u001b[0m     \u001b[38;5;66;03m# Prepare Input data\u001b[39;00m\n\u001b[1;32m    117\u001b[0m     input_data \u001b[38;5;241m=\u001b[39m \u001b[38;5;28mself\u001b[39m\u001b[38;5;241m.\u001b[39mdf\u001b[38;5;241m.\u001b[39mtoPandas()\n",
      "File \u001b[0;32m~/.conda/envs/rtdip-sdk/lib/python3.12/site-packages/rtdip_sdk/pipelines/forecasting/spark/arima.py:252\u001b[0m, in \u001b[0;36mArimaPrediction._initialize_self_df\u001b[0;34m(self, past_data, past_data_style, source_name, status_name, timestamp_name, to_extend_name, value_name)\u001b[0m\n\u001b[1;32m    246\u001b[0m         \u001b[38;5;28mself\u001b[39m\u001b[38;5;241m.\u001b[39mdf \u001b[38;5;241m=\u001b[39m (\n\u001b[1;32m    247\u001b[0m             past_data\u001b[38;5;241m.\u001b[39mgroupby(\u001b[38;5;28mself\u001b[39m\u001b[38;5;241m.\u001b[39mtimestamp_name)\n\u001b[1;32m    248\u001b[0m             \u001b[38;5;241m.\u001b[39mpivot(\u001b[38;5;28mself\u001b[39m\u001b[38;5;241m.\u001b[39msource_name)\n\u001b[1;32m    249\u001b[0m             \u001b[38;5;241m.\u001b[39magg(F\u001b[38;5;241m.\u001b[39mfirst(\u001b[38;5;28mself\u001b[39m\u001b[38;5;241m.\u001b[39mvalue_name))\n\u001b[1;32m    250\u001b[0m         )\n\u001b[1;32m    251\u001b[0m \u001b[38;5;28;01mif\u001b[39;00m \u001b[38;5;129;01mnot\u001b[39;00m to_extend_name \u001b[38;5;129;01min\u001b[39;00m \u001b[38;5;28mself\u001b[39m\u001b[38;5;241m.\u001b[39mdf\u001b[38;5;241m.\u001b[39mcolumns:\n\u001b[0;32m--> 252\u001b[0m     \u001b[38;5;28;01mraise\u001b[39;00m \u001b[38;5;167;01mValueError\u001b[39;00m(\u001b[38;5;124m\"\u001b[39m\u001b[38;5;132;01m{}\u001b[39;00m\u001b[38;5;124m not found in the DataFrame.\u001b[39m\u001b[38;5;124m\"\u001b[39m\u001b[38;5;241m.\u001b[39mformat(value_name))\n",
      "\u001b[0;31mValueError\u001b[0m: None not found in the DataFrame."
     ]
    },
    {
     "name": "stderr",
     "output_type": "stream",
     "text": [
      "[Stage 4581:============================>                           (1 + 1) / 2]\r"
     ]
    }
   ],
   "source": [
    "from rtdip_sdk.pipelines.forecasting.spark.auto_arima import ArimaAutoPrediction\n",
    "\n",
    "count = 100\n",
    "base = df.limit(count)\n",
    "base.show()\n",
    "forecast = ArimaAutoPrediction(base, to_extend_name='Value', number_of_data_points_to_analyze=int(count/2), number_of_data_points_to_predict=int(count/2), seasonal=True)\n"
   ]
  },
  {
   "cell_type": "code",
   "execution_count": null,
   "metadata": {},
   "outputs": [],
   "source": []
  },
  {
   "cell_type": "code",
   "execution_count": 122,
   "metadata": {},
   "outputs": [
    {
     "name": "stderr",
     "output_type": "stream",
     "text": [
      "25/01/27 20:50:49 WARN Instrumentation: [f8dadf72] regParam is zero, which might cause numerical instability and overfitting.\n",
      "25/01/27 20:50:49 WARN Instrumentation: [f8dadf72] The standard deviation of the label is zero, so the coefficients will be zeros and the intercept will be the mean of the label; as a result, training is not needed.\n",
      "                                                                                \r"
     ]
    },
    {
     "name": "stderr",
     "output_type": "stream",
     "text": [
      "[Stage 4581:============================>                           (1 + 1) / 2]\r"
     ]
    }
   ],
   "source": [
    "from rtdip_sdk.pipelines.forecasting.spark.linear_regression import LinearRegression\n",
    "from rtdip_sdk.pipelines.transformers.spark.machine_learning import ColumnsToVector, one_hot_encoding\n",
    "\n",
    "# machine learning only works for vectors\n",
    "base = one_hot_encoding.OneHotEncoding(df, \"Status\").transform()\n",
    "base = ColumnsToVector(base, [\"Value\"], \"Value\", override_col=True).transform()\n",
    "\n",
    "linearRegression = LinearRegression(base, features_col=\"Value\", label_col=\"Status_Good\")\n",
    "linearRegression.train(base)\n",
    "\n",
    "from pyspark.sql.types import StructType, StructField, FloatType\n",
    "forecast_base = spark.createDataFrame([(3.02,), (4.2,),], StructType([StructField(\"Value\", FloatType(), True)]))\n",
    "forecast_base = ColumnsToVector(forecast_base, input_cols=[\"Value\"], output_col=\"Value\", override_col=True).transform()\n",
    "\n",
    "forecast = linearRegression.predict(forecast_base)"
   ]
  },
  {
   "cell_type": "code",
   "execution_count": null,
   "metadata": {},
   "outputs": [],
   "source": [
    "# TODO: KNN"
   ]
  },
  {
   "cell_type": "markdown",
   "metadata": {},
   "source": [
    "# Transformers"
   ]
  },
  {
   "cell_type": "code",
   "execution_count": null,
   "metadata": {},
   "outputs": [],
   "source": [
    "from rtdip_sdk.pipelines.transformers.spark.machine_learning.one_hot_encoding import  OneHotEncoding\n",
    "\n",
    "OneHotEncoding(df, \"Status\").transform()"
   ]
  },
  {
   "cell_type": "code",
   "execution_count": null,
   "metadata": {},
   "outputs": [
    {
     "data": {
      "text/plain": [
       "DataFrame[TagName: string, EventTime: timestamp, Status: string, Value: vector]"
      ]
     },
     "execution_count": 126,
     "metadata": {},
     "output_type": "execute_result"
    }
   ],
   "source": [
    "from rtdip_sdk.pipelines.transformers.spark.machine_learning import ColumnsToVector\n",
    "\n",
    "base = ColumnsToVector(df, [\"Value\"], \"Value\", override_col=True).transform()"
   ]
  },
  {
   "cell_type": "code",
   "execution_count": null,
   "metadata": {},
   "outputs": [
    {
     "data": {
      "text/plain": [
       "DataFrame[TagName: string, EventTime: timestamp, Status: string, Status_Good: int, Value: vector, ValuePolynomial: vector]"
      ]
     },
     "execution_count": 135,
     "metadata": {},
     "output_type": "execute_result"
    },
    {
     "name": "stderr",
     "output_type": "stream",
     "text": [
      "[Stage 4581:============================>                           (1 + 1) / 2]\r"
     ]
    }
   ],
   "source": [
    "from rtdip_sdk.pipelines.transformers.spark.machine_learning.polynomial_features import PolynomialFeatures\n",
    "\n",
    "# base comes from previous example as it needs to be a vector\n",
    "PolynomialFeatures(base, \"Value\", \"ValuePolynomial\", poly_degree=3).transform()"
   ]
  }
 ],
 "metadata": {
  "kernelspec": {
   "display_name": "rtdip-sdk",
   "language": "python",
   "name": "python3"
  },
  "language_info": {
   "codemirror_mode": {
    "name": "ipython",
    "version": 3
   },
   "file_extension": ".py",
   "mimetype": "text/x-python",
   "name": "python",
   "nbconvert_exporter": "python",
   "pygments_lexer": "ipython3",
   "version": "3.12.8"
  }
 },
 "nbformat": 4,
 "nbformat_minor": 2
}
